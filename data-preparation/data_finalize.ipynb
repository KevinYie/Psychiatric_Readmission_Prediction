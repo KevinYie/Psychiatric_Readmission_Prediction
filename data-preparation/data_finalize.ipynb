{
 "cells": [
  {
   "cell_type": "markdown",
   "metadata": {},
   "source": [
    "# Predicting psychiatric readmission from clinical notes\n",
    "Data source: MIMIC III (https://mimic.physionet.org/)\n",
    "This notebook will combine 2 tables from MIMIC III to collect unique admissions and corresponding discharge notes for patients diagnosed with mental illnesses. <br>\n",
    "- NOTEEVENTS.csv: https://mimic.physionet.org/mimictables/noteevents/ <br>\n",
    "- ADMISSIONS.csv: https://mimic.physionet.org/mimictables/admissions/ <br>\n",
    "<br>\n",
    "Data labelling:\n",
    "- Readmission (positive class): if an admission is followed by another admission\n",
    "- No readmission (negative class): if an admission is not followed by another admission"
   ]
  },
  {
   "cell_type": "markdown",
   "metadata": {},
   "source": [
    "### Merge data"
   ]
  },
  {
   "cell_type": "code",
   "execution_count": 2,
   "metadata": {},
   "outputs": [],
   "source": [
    "import pandas as pd\n",
    "import numpy as np\n",
    "import warnings\n",
    "warnings.filterwarnings(\"ignore\")\n",
    "\n",
    "import re\n",
    "import seaborn as sns\n",
    "import matplotlib.pyplot as plt\n",
    "from sklearn.model_selection import train_test_split"
   ]
  },
  {
   "cell_type": "code",
   "execution_count": 3,
   "metadata": {},
   "outputs": [],
   "source": [
    "data = pd.read_csv('NOTEEVENTS.csv')\n",
    "admit = pd.read_csv('ADMISSIONS.csv')"
   ]
  },
  {
   "cell_type": "code",
   "execution_count": 4,
   "metadata": {},
   "outputs": [
    {
     "data": {
      "text/html": [
       "<div>\n",
       "<style scoped>\n",
       "    .dataframe tbody tr th:only-of-type {\n",
       "        vertical-align: middle;\n",
       "    }\n",
       "\n",
       "    .dataframe tbody tr th {\n",
       "        vertical-align: top;\n",
       "    }\n",
       "\n",
       "    .dataframe thead th {\n",
       "        text-align: right;\n",
       "    }\n",
       "</style>\n",
       "<table border=\"1\" class=\"dataframe\">\n",
       "  <thead>\n",
       "    <tr style=\"text-align: right;\">\n",
       "      <th></th>\n",
       "      <th>ROW_ID</th>\n",
       "      <th>SUBJECT_ID</th>\n",
       "      <th>HADM_ID</th>\n",
       "      <th>CHARTDATE</th>\n",
       "      <th>CHARTTIME</th>\n",
       "      <th>STORETIME</th>\n",
       "      <th>CATEGORY</th>\n",
       "      <th>DESCRIPTION</th>\n",
       "      <th>CGID</th>\n",
       "      <th>ISERROR</th>\n",
       "      <th>TEXT</th>\n",
       "    </tr>\n",
       "  </thead>\n",
       "  <tbody>\n",
       "    <tr>\n",
       "      <th>0</th>\n",
       "      <td>174</td>\n",
       "      <td>22532</td>\n",
       "      <td>167853.0</td>\n",
       "      <td>2151-08-04</td>\n",
       "      <td>NaN</td>\n",
       "      <td>NaN</td>\n",
       "      <td>Discharge summary</td>\n",
       "      <td>Report</td>\n",
       "      <td>NaN</td>\n",
       "      <td>NaN</td>\n",
       "      <td>Admission Date:  [**2151-7-16**]       Dischar...</td>\n",
       "    </tr>\n",
       "    <tr>\n",
       "      <th>1</th>\n",
       "      <td>175</td>\n",
       "      <td>13702</td>\n",
       "      <td>107527.0</td>\n",
       "      <td>2118-06-14</td>\n",
       "      <td>NaN</td>\n",
       "      <td>NaN</td>\n",
       "      <td>Discharge summary</td>\n",
       "      <td>Report</td>\n",
       "      <td>NaN</td>\n",
       "      <td>NaN</td>\n",
       "      <td>Admission Date:  [**2118-6-2**]       Discharg...</td>\n",
       "    </tr>\n",
       "    <tr>\n",
       "      <th>2</th>\n",
       "      <td>176</td>\n",
       "      <td>13702</td>\n",
       "      <td>167118.0</td>\n",
       "      <td>2119-05-25</td>\n",
       "      <td>NaN</td>\n",
       "      <td>NaN</td>\n",
       "      <td>Discharge summary</td>\n",
       "      <td>Report</td>\n",
       "      <td>NaN</td>\n",
       "      <td>NaN</td>\n",
       "      <td>Admission Date:  [**2119-5-4**]              D...</td>\n",
       "    </tr>\n",
       "    <tr>\n",
       "      <th>3</th>\n",
       "      <td>177</td>\n",
       "      <td>13702</td>\n",
       "      <td>196489.0</td>\n",
       "      <td>2124-08-18</td>\n",
       "      <td>NaN</td>\n",
       "      <td>NaN</td>\n",
       "      <td>Discharge summary</td>\n",
       "      <td>Report</td>\n",
       "      <td>NaN</td>\n",
       "      <td>NaN</td>\n",
       "      <td>Admission Date:  [**2124-7-21**]              ...</td>\n",
       "    </tr>\n",
       "    <tr>\n",
       "      <th>4</th>\n",
       "      <td>178</td>\n",
       "      <td>26880</td>\n",
       "      <td>135453.0</td>\n",
       "      <td>2162-03-25</td>\n",
       "      <td>NaN</td>\n",
       "      <td>NaN</td>\n",
       "      <td>Discharge summary</td>\n",
       "      <td>Report</td>\n",
       "      <td>NaN</td>\n",
       "      <td>NaN</td>\n",
       "      <td>Admission Date:  [**2162-3-3**]              D...</td>\n",
       "    </tr>\n",
       "  </tbody>\n",
       "</table>\n",
       "</div>"
      ],
      "text/plain": [
       "   ROW_ID  SUBJECT_ID   HADM_ID   CHARTDATE CHARTTIME STORETIME  \\\n",
       "0     174       22532  167853.0  2151-08-04       NaN       NaN   \n",
       "1     175       13702  107527.0  2118-06-14       NaN       NaN   \n",
       "2     176       13702  167118.0  2119-05-25       NaN       NaN   \n",
       "3     177       13702  196489.0  2124-08-18       NaN       NaN   \n",
       "4     178       26880  135453.0  2162-03-25       NaN       NaN   \n",
       "\n",
       "            CATEGORY DESCRIPTION  CGID  ISERROR  \\\n",
       "0  Discharge summary      Report   NaN      NaN   \n",
       "1  Discharge summary      Report   NaN      NaN   \n",
       "2  Discharge summary      Report   NaN      NaN   \n",
       "3  Discharge summary      Report   NaN      NaN   \n",
       "4  Discharge summary      Report   NaN      NaN   \n",
       "\n",
       "                                                TEXT  \n",
       "0  Admission Date:  [**2151-7-16**]       Dischar...  \n",
       "1  Admission Date:  [**2118-6-2**]       Discharg...  \n",
       "2  Admission Date:  [**2119-5-4**]              D...  \n",
       "3  Admission Date:  [**2124-7-21**]              ...  \n",
       "4  Admission Date:  [**2162-3-3**]              D...  "
      ]
     },
     "execution_count": 4,
     "metadata": {},
     "output_type": "execute_result"
    }
   ],
   "source": [
    "data.head()"
   ]
  },
  {
   "cell_type": "code",
   "execution_count": 5,
   "metadata": {},
   "outputs": [
    {
     "data": {
      "text/html": [
       "<div>\n",
       "<style scoped>\n",
       "    .dataframe tbody tr th:only-of-type {\n",
       "        vertical-align: middle;\n",
       "    }\n",
       "\n",
       "    .dataframe tbody tr th {\n",
       "        vertical-align: top;\n",
       "    }\n",
       "\n",
       "    .dataframe thead th {\n",
       "        text-align: right;\n",
       "    }\n",
       "</style>\n",
       "<table border=\"1\" class=\"dataframe\">\n",
       "  <thead>\n",
       "    <tr style=\"text-align: right;\">\n",
       "      <th></th>\n",
       "      <th>ROW_ID</th>\n",
       "      <th>SUBJECT_ID</th>\n",
       "      <th>HADM_ID</th>\n",
       "      <th>ADMITTIME</th>\n",
       "      <th>DISCHTIME</th>\n",
       "      <th>DEATHTIME</th>\n",
       "      <th>ADMISSION_TYPE</th>\n",
       "      <th>ADMISSION_LOCATION</th>\n",
       "      <th>DISCHARGE_LOCATION</th>\n",
       "      <th>INSURANCE</th>\n",
       "      <th>LANGUAGE</th>\n",
       "      <th>RELIGION</th>\n",
       "      <th>MARITAL_STATUS</th>\n",
       "      <th>ETHNICITY</th>\n",
       "      <th>EDREGTIME</th>\n",
       "      <th>EDOUTTIME</th>\n",
       "      <th>DIAGNOSIS</th>\n",
       "      <th>HOSPITAL_EXPIRE_FLAG</th>\n",
       "      <th>HAS_CHARTEVENTS_DATA</th>\n",
       "    </tr>\n",
       "  </thead>\n",
       "  <tbody>\n",
       "    <tr>\n",
       "      <th>0</th>\n",
       "      <td>21</td>\n",
       "      <td>22</td>\n",
       "      <td>165315</td>\n",
       "      <td>2196-04-09 12:26:00</td>\n",
       "      <td>2196-04-10 15:54:00</td>\n",
       "      <td>NaN</td>\n",
       "      <td>EMERGENCY</td>\n",
       "      <td>EMERGENCY ROOM ADMIT</td>\n",
       "      <td>DISC-TRAN CANCER/CHLDRN H</td>\n",
       "      <td>Private</td>\n",
       "      <td>NaN</td>\n",
       "      <td>UNOBTAINABLE</td>\n",
       "      <td>MARRIED</td>\n",
       "      <td>WHITE</td>\n",
       "      <td>2196-04-09 10:06:00</td>\n",
       "      <td>2196-04-09 13:24:00</td>\n",
       "      <td>BENZODIAZEPINE OVERDOSE</td>\n",
       "      <td>0</td>\n",
       "      <td>1</td>\n",
       "    </tr>\n",
       "    <tr>\n",
       "      <th>1</th>\n",
       "      <td>22</td>\n",
       "      <td>23</td>\n",
       "      <td>152223</td>\n",
       "      <td>2153-09-03 07:15:00</td>\n",
       "      <td>2153-09-08 19:10:00</td>\n",
       "      <td>NaN</td>\n",
       "      <td>ELECTIVE</td>\n",
       "      <td>PHYS REFERRAL/NORMAL DELI</td>\n",
       "      <td>HOME HEALTH CARE</td>\n",
       "      <td>Medicare</td>\n",
       "      <td>NaN</td>\n",
       "      <td>CATHOLIC</td>\n",
       "      <td>MARRIED</td>\n",
       "      <td>WHITE</td>\n",
       "      <td>NaN</td>\n",
       "      <td>NaN</td>\n",
       "      <td>CORONARY ARTERY DISEASE\\CORONARY ARTERY BYPASS...</td>\n",
       "      <td>0</td>\n",
       "      <td>1</td>\n",
       "    </tr>\n",
       "    <tr>\n",
       "      <th>2</th>\n",
       "      <td>23</td>\n",
       "      <td>23</td>\n",
       "      <td>124321</td>\n",
       "      <td>2157-10-18 19:34:00</td>\n",
       "      <td>2157-10-25 14:00:00</td>\n",
       "      <td>NaN</td>\n",
       "      <td>EMERGENCY</td>\n",
       "      <td>TRANSFER FROM HOSP/EXTRAM</td>\n",
       "      <td>HOME HEALTH CARE</td>\n",
       "      <td>Medicare</td>\n",
       "      <td>ENGL</td>\n",
       "      <td>CATHOLIC</td>\n",
       "      <td>MARRIED</td>\n",
       "      <td>WHITE</td>\n",
       "      <td>NaN</td>\n",
       "      <td>NaN</td>\n",
       "      <td>BRAIN MASS</td>\n",
       "      <td>0</td>\n",
       "      <td>1</td>\n",
       "    </tr>\n",
       "    <tr>\n",
       "      <th>3</th>\n",
       "      <td>24</td>\n",
       "      <td>24</td>\n",
       "      <td>161859</td>\n",
       "      <td>2139-06-06 16:14:00</td>\n",
       "      <td>2139-06-09 12:48:00</td>\n",
       "      <td>NaN</td>\n",
       "      <td>EMERGENCY</td>\n",
       "      <td>TRANSFER FROM HOSP/EXTRAM</td>\n",
       "      <td>HOME</td>\n",
       "      <td>Private</td>\n",
       "      <td>NaN</td>\n",
       "      <td>PROTESTANT QUAKER</td>\n",
       "      <td>SINGLE</td>\n",
       "      <td>WHITE</td>\n",
       "      <td>NaN</td>\n",
       "      <td>NaN</td>\n",
       "      <td>INTERIOR MYOCARDIAL INFARCTION</td>\n",
       "      <td>0</td>\n",
       "      <td>1</td>\n",
       "    </tr>\n",
       "    <tr>\n",
       "      <th>4</th>\n",
       "      <td>25</td>\n",
       "      <td>25</td>\n",
       "      <td>129635</td>\n",
       "      <td>2160-11-02 02:06:00</td>\n",
       "      <td>2160-11-05 14:55:00</td>\n",
       "      <td>NaN</td>\n",
       "      <td>EMERGENCY</td>\n",
       "      <td>EMERGENCY ROOM ADMIT</td>\n",
       "      <td>HOME</td>\n",
       "      <td>Private</td>\n",
       "      <td>NaN</td>\n",
       "      <td>UNOBTAINABLE</td>\n",
       "      <td>MARRIED</td>\n",
       "      <td>WHITE</td>\n",
       "      <td>2160-11-02 01:01:00</td>\n",
       "      <td>2160-11-02 04:27:00</td>\n",
       "      <td>ACUTE CORONARY SYNDROME</td>\n",
       "      <td>0</td>\n",
       "      <td>1</td>\n",
       "    </tr>\n",
       "  </tbody>\n",
       "</table>\n",
       "</div>"
      ],
      "text/plain": [
       "   ROW_ID  SUBJECT_ID  HADM_ID            ADMITTIME            DISCHTIME  \\\n",
       "0      21          22   165315  2196-04-09 12:26:00  2196-04-10 15:54:00   \n",
       "1      22          23   152223  2153-09-03 07:15:00  2153-09-08 19:10:00   \n",
       "2      23          23   124321  2157-10-18 19:34:00  2157-10-25 14:00:00   \n",
       "3      24          24   161859  2139-06-06 16:14:00  2139-06-09 12:48:00   \n",
       "4      25          25   129635  2160-11-02 02:06:00  2160-11-05 14:55:00   \n",
       "\n",
       "  DEATHTIME ADMISSION_TYPE         ADMISSION_LOCATION  \\\n",
       "0       NaN      EMERGENCY       EMERGENCY ROOM ADMIT   \n",
       "1       NaN       ELECTIVE  PHYS REFERRAL/NORMAL DELI   \n",
       "2       NaN      EMERGENCY  TRANSFER FROM HOSP/EXTRAM   \n",
       "3       NaN      EMERGENCY  TRANSFER FROM HOSP/EXTRAM   \n",
       "4       NaN      EMERGENCY       EMERGENCY ROOM ADMIT   \n",
       "\n",
       "          DISCHARGE_LOCATION INSURANCE LANGUAGE           RELIGION  \\\n",
       "0  DISC-TRAN CANCER/CHLDRN H   Private      NaN       UNOBTAINABLE   \n",
       "1           HOME HEALTH CARE  Medicare      NaN           CATHOLIC   \n",
       "2           HOME HEALTH CARE  Medicare     ENGL           CATHOLIC   \n",
       "3                       HOME   Private      NaN  PROTESTANT QUAKER   \n",
       "4                       HOME   Private      NaN       UNOBTAINABLE   \n",
       "\n",
       "  MARITAL_STATUS ETHNICITY            EDREGTIME            EDOUTTIME  \\\n",
       "0        MARRIED     WHITE  2196-04-09 10:06:00  2196-04-09 13:24:00   \n",
       "1        MARRIED     WHITE                  NaN                  NaN   \n",
       "2        MARRIED     WHITE                  NaN                  NaN   \n",
       "3         SINGLE     WHITE                  NaN                  NaN   \n",
       "4        MARRIED     WHITE  2160-11-02 01:01:00  2160-11-02 04:27:00   \n",
       "\n",
       "                                           DIAGNOSIS  HOSPITAL_EXPIRE_FLAG  \\\n",
       "0                            BENZODIAZEPINE OVERDOSE                     0   \n",
       "1  CORONARY ARTERY DISEASE\\CORONARY ARTERY BYPASS...                     0   \n",
       "2                                         BRAIN MASS                     0   \n",
       "3                     INTERIOR MYOCARDIAL INFARCTION                     0   \n",
       "4                            ACUTE CORONARY SYNDROME                     0   \n",
       "\n",
       "   HAS_CHARTEVENTS_DATA  \n",
       "0                     1  \n",
       "1                     1  \n",
       "2                     1  \n",
       "3                     1  \n",
       "4                     1  "
      ]
     },
     "execution_count": 5,
     "metadata": {},
     "output_type": "execute_result"
    }
   ],
   "source": [
    "admit.head()"
   ]
  },
  {
   "cell_type": "code",
   "execution_count": 6,
   "metadata": {},
   "outputs": [
    {
     "data": {
      "text/html": [
       "<div>\n",
       "<style scoped>\n",
       "    .dataframe tbody tr th:only-of-type {\n",
       "        vertical-align: middle;\n",
       "    }\n",
       "\n",
       "    .dataframe tbody tr th {\n",
       "        vertical-align: top;\n",
       "    }\n",
       "\n",
       "    .dataframe thead th {\n",
       "        text-align: right;\n",
       "    }\n",
       "</style>\n",
       "<table border=\"1\" class=\"dataframe\">\n",
       "  <thead>\n",
       "    <tr style=\"text-align: right;\">\n",
       "      <th></th>\n",
       "      <th>SUBJECT_ID</th>\n",
       "      <th>HADM_ID</th>\n",
       "      <th>CHARTDATE</th>\n",
       "      <th>CATEGORY</th>\n",
       "      <th>TEXT</th>\n",
       "      <th>ADMITTIME</th>\n",
       "      <th>DISCHTIME</th>\n",
       "      <th>DIAGNOSIS</th>\n",
       "    </tr>\n",
       "  </thead>\n",
       "  <tbody>\n",
       "    <tr>\n",
       "      <td>0</td>\n",
       "      <td>22532</td>\n",
       "      <td>167853.0</td>\n",
       "      <td>2151-08-04</td>\n",
       "      <td>Discharge summary</td>\n",
       "      <td>Admission Date:  [**2151-7-16**]       Dischar...</td>\n",
       "      <td>2151-07-16 14:29:00</td>\n",
       "      <td>2151-08-04 19:10:00</td>\n",
       "      <td>RT LOWER LOBE PNEUMONIA</td>\n",
       "    </tr>\n",
       "    <tr>\n",
       "      <td>1</td>\n",
       "      <td>22532</td>\n",
       "      <td>167853.0</td>\n",
       "      <td>2151-08-04</td>\n",
       "      <td>Discharge summary</td>\n",
       "      <td>Admission Date:  [**2151-7-16**]       Dischar...</td>\n",
       "      <td>2151-07-16 14:29:00</td>\n",
       "      <td>2151-08-04 19:10:00</td>\n",
       "      <td>RT LOWER LOBE PNEUMONIA</td>\n",
       "    </tr>\n",
       "    <tr>\n",
       "      <td>2</td>\n",
       "      <td>22532</td>\n",
       "      <td>167853.0</td>\n",
       "      <td>2151-08-02</td>\n",
       "      <td>Echo</td>\n",
       "      <td>PATIENT/TEST INFORMATION:\\nIndication: Aortic ...</td>\n",
       "      <td>2151-07-16 14:29:00</td>\n",
       "      <td>2151-08-04 19:10:00</td>\n",
       "      <td>RT LOWER LOBE PNEUMONIA</td>\n",
       "    </tr>\n",
       "    <tr>\n",
       "      <td>3</td>\n",
       "      <td>22532</td>\n",
       "      <td>167853.0</td>\n",
       "      <td>2151-07-19</td>\n",
       "      <td>Echo</td>\n",
       "      <td>PATIENT/TEST INFORMATION:\\nIndication: Endocar...</td>\n",
       "      <td>2151-07-16 14:29:00</td>\n",
       "      <td>2151-08-04 19:10:00</td>\n",
       "      <td>RT LOWER LOBE PNEUMONIA</td>\n",
       "    </tr>\n",
       "    <tr>\n",
       "      <td>4</td>\n",
       "      <td>22532</td>\n",
       "      <td>167853.0</td>\n",
       "      <td>2151-08-03</td>\n",
       "      <td>ECG</td>\n",
       "      <td>Atrial fibrillation with a slow ventricular re...</td>\n",
       "      <td>2151-07-16 14:29:00</td>\n",
       "      <td>2151-08-04 19:10:00</td>\n",
       "      <td>RT LOWER LOBE PNEUMONIA</td>\n",
       "    </tr>\n",
       "  </tbody>\n",
       "</table>\n",
       "</div>"
      ],
      "text/plain": [
       "   SUBJECT_ID   HADM_ID   CHARTDATE           CATEGORY  \\\n",
       "0       22532  167853.0  2151-08-04  Discharge summary   \n",
       "1       22532  167853.0  2151-08-04  Discharge summary   \n",
       "2       22532  167853.0  2151-08-02               Echo   \n",
       "3       22532  167853.0  2151-07-19               Echo   \n",
       "4       22532  167853.0  2151-08-03                ECG   \n",
       "\n",
       "                                                TEXT            ADMITTIME  \\\n",
       "0  Admission Date:  [**2151-7-16**]       Dischar...  2151-07-16 14:29:00   \n",
       "1  Admission Date:  [**2151-7-16**]       Dischar...  2151-07-16 14:29:00   \n",
       "2  PATIENT/TEST INFORMATION:\\nIndication: Aortic ...  2151-07-16 14:29:00   \n",
       "3  PATIENT/TEST INFORMATION:\\nIndication: Endocar...  2151-07-16 14:29:00   \n",
       "4  Atrial fibrillation with a slow ventricular re...  2151-07-16 14:29:00   \n",
       "\n",
       "             DISCHTIME                DIAGNOSIS  \n",
       "0  2151-08-04 19:10:00  RT LOWER LOBE PNEUMONIA  \n",
       "1  2151-08-04 19:10:00  RT LOWER LOBE PNEUMONIA  \n",
       "2  2151-08-04 19:10:00  RT LOWER LOBE PNEUMONIA  \n",
       "3  2151-08-04 19:10:00  RT LOWER LOBE PNEUMONIA  \n",
       "4  2151-08-04 19:10:00  RT LOWER LOBE PNEUMONIA  "
      ]
     },
     "execution_count": 6,
     "metadata": {},
     "output_type": "execute_result"
    }
   ],
   "source": [
    "#Merge these two datasets and select features of interest\n",
    "note = data[['SUBJECT_ID','HADM_ID','CHARTDATE','CATEGORY','TEXT']]\n",
    "admission = admit[['HADM_ID','ADMITTIME','DISCHTIME','DIAGNOSIS']]\n",
    "discharge = note.merge(admission,how='inner', on='HADM_ID')\n",
    "discharge.head()"
   ]
  },
  {
   "cell_type": "code",
   "execution_count": 7,
   "metadata": {},
   "outputs": [
    {
     "data": {
      "text/plain": [
       "array(['Discharge summary', 'Echo', 'ECG', 'Radiology', 'Nursing/other',\n",
       "       'Physician ', 'Nursing', 'Rehab Services', 'Nutrition',\n",
       "       'Respiratory ', 'General', 'Social Work', 'Case Management ',\n",
       "       'Pharmacy', 'Consult'], dtype=object)"
      ]
     },
     "execution_count": 7,
     "metadata": {},
     "output_type": "execute_result"
    }
   ],
   "source": [
    "discharge['CATEGORY'].unique()"
   ]
  },
  {
   "cell_type": "code",
   "execution_count": 11,
   "metadata": {},
   "outputs": [
    {
     "name": "stdout",
     "output_type": "stream",
     "text": [
      "Total discharge notes:  59652\n",
      "Total unique admissions:  52726\n",
      "Total unique patients:  41127\n"
     ]
    }
   ],
   "source": [
    "#Select only discharge notes\n",
    "discharge = discharge[discharge['CATEGORY']=='Discharge summary']\n",
    "print('Total discharge notes: ', discharge.shape[0])\n",
    "print('Total unique admissions: ', discharge['HADM_ID'].nunique())\n",
    "print('Total unique patients: ', discharge['SUBJECT_ID'].nunique())"
   ]
  },
  {
   "cell_type": "code",
   "execution_count": 12,
   "metadata": {},
   "outputs": [],
   "source": [
    "#NOTE: the number of discharge notes are even higher than number of unique visits -> there could be duplicate, we will use only one\n",
    "# discharge note per visit\n",
    "disch = discharge.groupby([\"HADM_ID\"]).last().reset_index()\n",
    "disch.sort_values('SUBJECT_ID', axis = 0, ascending = True, \n",
    "                 inplace = True, na_position ='last')"
   ]
  },
  {
   "cell_type": "markdown",
   "metadata": {},
   "source": [
    "### Create the label: *READMIT: 0 OR 1*"
   ]
  },
  {
   "cell_type": "code",
   "execution_count": 16,
   "metadata": {},
   "outputs": [],
   "source": [
    "#Find patients with multiple admissions\n",
    "patient_visits = disch['SUBJECT_ID'].value_counts().reset_index()\n",
    "patient_multivisit = patient_visits[patient_visits['SUBJECT_ID'] >1]\n",
    "patient_multivisit_id = patient_multivisit['index']"
   ]
  },
  {
   "cell_type": "code",
   "execution_count": 17,
   "metadata": {},
   "outputs": [],
   "source": [
    "#replace class = 1 for those with multiple visits ----- user -level\n",
    "disch['READMIT'] = 0\n",
    "disch.loc[disch.SUBJECT_ID.isin(patient_multivisit_id), 'READMIT'] =  1"
   ]
  },
  {
   "cell_type": "code",
   "execution_count": 18,
   "metadata": {},
   "outputs": [],
   "source": [
    "#replace class = 0 for the last visits per user ----- visit -level\n",
    "multivisit_groupby_user = disch.groupby([\"SUBJECT_ID\"])[['HADM_ID','DISCHTIME']].max().reset_index()"
   ]
  },
  {
   "cell_type": "code",
   "execution_count": 19,
   "metadata": {},
   "outputs": [
    {
     "data": {
      "text/plain": [
       "((41127, 3), (41127,))"
      ]
     },
     "execution_count": 19,
     "metadata": {},
     "output_type": "execute_result"
    }
   ],
   "source": [
    "#double check -> same number -> good\n",
    "multivisit_groupby_user.shape, multivisit_groupby_user['SUBJECT_ID'].shape"
   ]
  },
  {
   "cell_type": "code",
   "execution_count": 20,
   "metadata": {},
   "outputs": [],
   "source": [
    "last_visit_hadm = multivisit_groupby_user['HADM_ID'].to_list()\n",
    "disch.loc[disch.HADM_ID.isin(last_visit_hadm), 'READMIT'] =  0"
   ]
  },
  {
   "cell_type": "code",
   "execution_count": 21,
   "metadata": {},
   "outputs": [
    {
     "data": {
      "text/plain": [
       "0    41127\n",
       "1    11599\n",
       "Name: READMIT, dtype: int64"
      ]
     },
     "execution_count": 21,
     "metadata": {},
     "output_type": "execute_result"
    }
   ],
   "source": [
    "disch['READMIT'].value_counts() # -----> perfect!"
   ]
  },
  {
   "cell_type": "markdown",
   "metadata": {},
   "source": [
    "### Filter for mental diseases\n",
    "\n",
    "1. Mental disease code 2900-3200\n",
    "2. Selfharm\n",
    "3. Drugcodes"
   ]
  },
  {
   "cell_type": "code",
   "execution_count": 22,
   "metadata": {},
   "outputs": [
    {
     "data": {
      "text/html": [
       "<div>\n",
       "<style scoped>\n",
       "    .dataframe tbody tr th:only-of-type {\n",
       "        vertical-align: middle;\n",
       "    }\n",
       "\n",
       "    .dataframe tbody tr th {\n",
       "        vertical-align: top;\n",
       "    }\n",
       "\n",
       "    .dataframe thead th {\n",
       "        text-align: right;\n",
       "    }\n",
       "</style>\n",
       "<table border=\"1\" class=\"dataframe\">\n",
       "  <thead>\n",
       "    <tr style=\"text-align: right;\">\n",
       "      <th></th>\n",
       "      <th>ROW_ID</th>\n",
       "      <th>SUBJECT_ID</th>\n",
       "      <th>HADM_ID</th>\n",
       "      <th>SEQ_NUM</th>\n",
       "      <th>ICD9_CODE</th>\n",
       "    </tr>\n",
       "  </thead>\n",
       "  <tbody>\n",
       "    <tr>\n",
       "      <td>0</td>\n",
       "      <td>1297</td>\n",
       "      <td>109</td>\n",
       "      <td>172335</td>\n",
       "      <td>1.0</td>\n",
       "      <td>40301</td>\n",
       "    </tr>\n",
       "    <tr>\n",
       "      <td>1</td>\n",
       "      <td>1298</td>\n",
       "      <td>109</td>\n",
       "      <td>172335</td>\n",
       "      <td>2.0</td>\n",
       "      <td>486</td>\n",
       "    </tr>\n",
       "    <tr>\n",
       "      <td>2</td>\n",
       "      <td>1299</td>\n",
       "      <td>109</td>\n",
       "      <td>172335</td>\n",
       "      <td>3.0</td>\n",
       "      <td>58281</td>\n",
       "    </tr>\n",
       "    <tr>\n",
       "      <td>3</td>\n",
       "      <td>1300</td>\n",
       "      <td>109</td>\n",
       "      <td>172335</td>\n",
       "      <td>4.0</td>\n",
       "      <td>5855</td>\n",
       "    </tr>\n",
       "    <tr>\n",
       "      <td>4</td>\n",
       "      <td>1301</td>\n",
       "      <td>109</td>\n",
       "      <td>172335</td>\n",
       "      <td>5.0</td>\n",
       "      <td>4254</td>\n",
       "    </tr>\n",
       "  </tbody>\n",
       "</table>\n",
       "</div>"
      ],
      "text/plain": [
       "   ROW_ID  SUBJECT_ID  HADM_ID  SEQ_NUM ICD9_CODE\n",
       "0    1297         109   172335      1.0     40301\n",
       "1    1298         109   172335      2.0       486\n",
       "2    1299         109   172335      3.0     58281\n",
       "3    1300         109   172335      4.0      5855\n",
       "4    1301         109   172335      5.0      4254"
      ]
     },
     "execution_count": 22,
     "metadata": {},
     "output_type": "execute_result"
    }
   ],
   "source": [
    "#merge diagnosis\n",
    "diag = pd.read_csv('DIAGNOSES_ICD.csv')\n",
    "diag.head(5)"
   ]
  },
  {
   "cell_type": "code",
   "execution_count": 23,
   "metadata": {},
   "outputs": [
    {
     "data": {
      "text/plain": [
       "400"
      ]
     },
     "execution_count": 23,
     "metadata": {},
     "output_type": "execute_result"
    }
   ],
   "source": [
    "#Select code for mental illnesses\n",
    "mental = list(np.arange(2900,3200, 1))\n",
    "mental = [str(x) for x in mental]\n",
    "selfharmcodes = [\"E\" + str(x) for x in np.arange(9500, 9600, 1)]\n",
    "sample = mental + selfharmcodes\n",
    "len(sample)"
   ]
  },
  {
   "cell_type": "code",
   "execution_count": 27,
   "metadata": {},
   "outputs": [
    {
     "data": {
      "text/html": [
       "<div>\n",
       "<style scoped>\n",
       "    .dataframe tbody tr th:only-of-type {\n",
       "        vertical-align: middle;\n",
       "    }\n",
       "\n",
       "    .dataframe tbody tr th {\n",
       "        vertical-align: top;\n",
       "    }\n",
       "\n",
       "    .dataframe thead th {\n",
       "        text-align: right;\n",
       "    }\n",
       "</style>\n",
       "<table border=\"1\" class=\"dataframe\">\n",
       "  <thead>\n",
       "    <tr style=\"text-align: right;\">\n",
       "      <th></th>\n",
       "      <th>HADM_ID</th>\n",
       "      <th>SUBJECT_ID</th>\n",
       "      <th>CHARTDATE</th>\n",
       "      <th>CATEGORY</th>\n",
       "      <th>TEXT</th>\n",
       "      <th>ADMITTIME</th>\n",
       "      <th>DISCHTIME</th>\n",
       "      <th>DIAGNOSIS</th>\n",
       "      <th>READMIT</th>\n",
       "      <th>ICD9_CODE</th>\n",
       "    </tr>\n",
       "  </thead>\n",
       "  <tbody>\n",
       "    <tr>\n",
       "      <td>0</td>\n",
       "      <td>100006.0</td>\n",
       "      <td>9895</td>\n",
       "      <td>2108-04-18</td>\n",
       "      <td>Discharge summary</td>\n",
       "      <td>Name:  [**Known lastname 470**], [**Known firs...</td>\n",
       "      <td>2108-04-06 15:49:00</td>\n",
       "      <td>2108-04-18 17:18:00</td>\n",
       "      <td>COPD FLARE</td>\n",
       "      <td>1</td>\n",
       "      <td>3090</td>\n",
       "    </tr>\n",
       "    <tr>\n",
       "      <td>1</td>\n",
       "      <td>100020.0</td>\n",
       "      <td>9973</td>\n",
       "      <td>2142-12-10</td>\n",
       "      <td>Discharge summary</td>\n",
       "      <td>Admission Date:  [**2142-11-30**]             ...</td>\n",
       "      <td>2142-11-30 01:53:00</td>\n",
       "      <td>2142-12-10 16:32:00</td>\n",
       "      <td>HYPONATREMIA</td>\n",
       "      <td>1</td>\n",
       "      <td>2930</td>\n",
       "    </tr>\n",
       "    <tr>\n",
       "      <td>2</td>\n",
       "      <td>100035.0</td>\n",
       "      <td>48539</td>\n",
       "      <td>2115-03-19</td>\n",
       "      <td>Discharge summary</td>\n",
       "      <td>Admission Date:  [**2115-2-22**]              ...</td>\n",
       "      <td>2115-02-22 06:51:00</td>\n",
       "      <td>2115-03-19 14:37:00</td>\n",
       "      <td>POST ARREST</td>\n",
       "      <td>0</td>\n",
       "      <td>3004</td>\n",
       "    </tr>\n",
       "    <tr>\n",
       "      <td>3</td>\n",
       "      <td>100036.0</td>\n",
       "      <td>30078</td>\n",
       "      <td>2187-07-23</td>\n",
       "      <td>Discharge summary</td>\n",
       "      <td>Name:  [**Known lastname **],[**Known firstnam...</td>\n",
       "      <td>2187-07-13 13:58:00</td>\n",
       "      <td>2187-07-23 15:45:00</td>\n",
       "      <td>CHF</td>\n",
       "      <td>0</td>\n",
       "      <td>2948</td>\n",
       "    </tr>\n",
       "    <tr>\n",
       "      <td>4</td>\n",
       "      <td>100058.0</td>\n",
       "      <td>14121</td>\n",
       "      <td>2139-09-26</td>\n",
       "      <td>Discharge summary</td>\n",
       "      <td>Admission Date:  [**2139-9-8**]     Discharge ...</td>\n",
       "      <td>2139-09-08 21:38:00</td>\n",
       "      <td>2139-09-26 13:55:00</td>\n",
       "      <td>INTRACRANIAL HEMORRHAGE</td>\n",
       "      <td>0</td>\n",
       "      <td>3051</td>\n",
       "    </tr>\n",
       "  </tbody>\n",
       "</table>\n",
       "</div>"
      ],
      "text/plain": [
       "    HADM_ID  SUBJECT_ID   CHARTDATE           CATEGORY  \\\n",
       "0  100006.0        9895  2108-04-18  Discharge summary   \n",
       "1  100020.0        9973  2142-12-10  Discharge summary   \n",
       "2  100035.0       48539  2115-03-19  Discharge summary   \n",
       "3  100036.0       30078  2187-07-23  Discharge summary   \n",
       "4  100058.0       14121  2139-09-26  Discharge summary   \n",
       "\n",
       "                                                TEXT            ADMITTIME  \\\n",
       "0  Name:  [**Known lastname 470**], [**Known firs...  2108-04-06 15:49:00   \n",
       "1  Admission Date:  [**2142-11-30**]             ...  2142-11-30 01:53:00   \n",
       "2  Admission Date:  [**2115-2-22**]              ...  2115-02-22 06:51:00   \n",
       "3  Name:  [**Known lastname **],[**Known firstnam...  2187-07-13 13:58:00   \n",
       "4  Admission Date:  [**2139-9-8**]     Discharge ...  2139-09-08 21:38:00   \n",
       "\n",
       "             DISCHTIME                DIAGNOSIS  READMIT ICD9_CODE  \n",
       "0  2108-04-18 17:18:00               COPD FLARE        1      3090  \n",
       "1  2142-12-10 16:32:00             HYPONATREMIA        1      2930  \n",
       "2  2115-03-19 14:37:00              POST ARREST        0      3004  \n",
       "3  2187-07-23 15:45:00                      CHF        0      2948  \n",
       "4  2139-09-26 13:55:00  INTRACRANIAL HEMORRHAGE        0      3051  "
      ]
     },
     "execution_count": 27,
     "metadata": {},
     "output_type": "execute_result"
    }
   ],
   "source": [
    "mental = diag[diag[\"ICD9_CODE\"].astype(str).isin(sample)]\n",
    "data = disch.merge(mental[['HADM_ID','ICD9_CODE']],how='inner', on='HADM_ID')\n",
    "data.head()"
   ]
  },
  {
   "cell_type": "code",
   "execution_count": 28,
   "metadata": {},
   "outputs": [
    {
     "data": {
      "text/plain": [
       "<matplotlib.axes._subplots.AxesSubplot at 0x20a107bf588>"
      ]
     },
     "execution_count": 28,
     "metadata": {},
     "output_type": "execute_result"
    },
    {
     "data": {
      "image/png": "[encoded data removed]",
      "text/plain": [
       "<Figure size 432x288 with 1 Axes>"
      ]
     },
     "metadata": {
      "needs_background": "light"
     },
     "output_type": "display_data"
    }
   ],
   "source": [
    "#Check for class imbalance\n",
    "sns.countplot(data['READMIT'])"
   ]
  },
  {
   "cell_type": "code",
   "execution_count": 29,
   "metadata": {},
   "outputs": [
    {
     "data": {
      "text/plain": [
       "0    7159\n",
       "1    2059\n",
       "Name: READMIT, dtype: int64"
      ]
     },
     "execution_count": 29,
     "metadata": {},
     "output_type": "execute_result"
    }
   ],
   "source": [
    "data['READMIT'].value_counts()"
   ]
  },
  {
   "cell_type": "code",
   "execution_count": 140,
   "metadata": {},
   "outputs": [],
   "source": [
    "#data.to_csv('final_data.csv')"
   ]
  },
  {
   "cell_type": "markdown",
   "metadata": {},
   "source": [
    "### Data cleaning using regex"
   ]
  },
  {
   "cell_type": "code",
   "execution_count": 46,
   "metadata": {},
   "outputs": [
    {
     "name": "stdout",
     "output_type": "stream",
     "text": [
      "Before cleaning:\n"
     ]
    },
    {
     "data": {
      "text/plain": [
       "'Admission Date:  [**2118-6-2**]       Discharge Date:  [**2118-6-14**]\\n\\nDate of Birth:                    Sex:  F\\n\\nService:  MICU and then to [**Doctor Last Name **] Medicine\\n\\nHISTORY OF PRESENT ILLNESS:  This is an 81-year-old female\\nwith a history of emphysema (not on home O2), who presents\\nwith three days of shortness of breath thought by her primary\\ncare doctor to be a COPD flare.  Two days prior to admission,\\nshe was started on a prednisone taper and one day prior to\\nadmission she required oxygen at home in order to maintain\\noxygen saturation greater than 90%.  She has also been on\\nlevofloxacin and nebulizers, and was not getting better, and\\npresented to the [**Hospital1 18**] Emergency Room.\\n\\nIn the [**Hospital3 **] Emergency Room, her oxygen saturation was\\n100% on CPAP.  She was not able to be weaned off of this\\ndespite nebulizer treatment and Solu-Medrol 125 mg IV x2.\\n\\nReview of systems is negative for the following:  Fevers,\\nchills, nausea, vomiting, night sweats, change in weight,\\ngastrointestinal complaints, neurologic changes, rashes,\\npalpitations, orthopnea.  Is positive for the following:\\nChest pressure occasionally with shortness of breath with\\nexertion, some shortness of breath that is positionally\\nrelated, but is improved with nebulizer treatment.\\n\\nPAST MEDICAL HISTORY:\\n1. COPD.  Last pulmonary function tests in [**2117-11-3**]\\ndemonstrated a FVC of 52% of predicted, a FEV1 of 54% of\\npredicted, a MMF of 23% of predicted, and a FEV1:FVC ratio of\\n67% of predicted, that does not improve with bronchodilator\\ntreatment.  The FVC, however, does significantly improve with\\nbronchodilator treatment consistent with her known reversible\\nair flow obstruction in addition to an underlying restrictive\\nventilatory defect.  The patient has never been on home\\noxygen prior to this recent episode.  She has never been on\\nsteroid taper or been intubated in the past.\\n2. Lacunar CVA.  MRI of the head in [**2114-11-4**]\\ndemonstrates \"mild degree of multiple small foci of high T2\\nsignal within the white matter of both cerebral hemispheres\\nas well as the pons, in the latter region predominantly to\\nthe right of midline.  The abnormalities, while nonspecific\\nin etiology, are most likely secondary to chronic\\nmicrovascular infarction.  There is no mass, lesion, shift of\\nthe normal midline strictures or hydrocephalus.  The major\\nvascular flow patterns are preserved.  There is moderate\\nright maxillary, moderate bilateral ethmoid, mild left\\nmaxillary, minimal right sphenoid, and frontal sinus mucosal\\nthickening.  These abnormalities could represent an allergic\\nor some other type of inflammatory process.  Additionally\\nnoted is a moderately enlarged subtotally empty sella\\nturcica\".\\n3. Angina:  Most recent stress test was in [**2118-1-3**]\\ngoing for four minutes with a rate pressure product of\\n10,000, 64% of maximum predicted heart rate without evidence\\nof ischemic EKG changes or symptoms.  The imaging portion of\\nthe study demonstrated no evidence of myocardial ischemia and\\na calculated ejection fraction of 84%.  The patient denies\\nangina at rest and gets angina with walking a few blocks.\\nAre alleviated by sublingual nitroglycerin.\\n4. Hypothyroidism on Synthroid.\\n5. Depression on Lexapro.\\n6. Motor vehicle accident with head injury approximately 10\\nyears ago.\\n\\nMEDICATIONS ON ADMISSION:\\n1. Hydrochlorothiazide 25 q.d.\\n2. Prednisone 60 mg, 50 mg, 40 mg, 20 mg.\\n3. Levofloxacin 500 mg q.d.\\n4. Imdur 60 mg q.d.\\n5. Synthroid 75 mcg q.d.\\n6. Pulmicort nebulizer b.i.d.\\n7. Albuterol nebulizer q.4. prn.\\n8. Lexapro 10 mg q.d.\\n9. Protonix 40 mg q.d.\\n10. Aspirin 81 mg q.d.\\n\\nALLERGIES:  Norvasc leads to lightheadedness and headache.\\n\\nFAMILY HISTORY:  Noncontributory.\\n\\nSOCIAL HISTORY:  Lives with her husband, Dr. [**Known lastname 1809**] an\\neminent Pediatric Neurologist at [**Hospital3 1810**].  The\\npatient is a prior smoker, but has not smoked in over 10\\nyears.  She has no known alcohol use and she is a full code.\\n\\nPHYSICAL EXAM AT TIME OF ADMISSION:  Blood pressure 142/76,\\nheart rate 100 and regular, respirations at 17-21, and 97%\\naxillary temperature.  She was saturating at 100% on CPAP\\nwith dry mucous membranes.  An elderly female in no apparent\\ndistress.  Pupils are equal, round, and reactive to light and\\naccommodation.  Extraocular movements are intact.  Oropharynx\\ndifficult to assess due to CPAP machine.  No evidence of\\njugular venous pressure, however, the strap from the CPAP\\nmachine obscures the neck exam.  Cranial nerves II through\\nXII are grossly intact.  Neck is supple without\\nlymphadenopathy.  Heart exam:  Tachycardic, regular, obscured\\nby loud bilateral wheezing with increase in the expiratory\\nphase as well as profuse scattered rhonchi throughout the\\nlung fields.  Positive bowel sounds, soft, nontender,\\nnondistended, obese, no masses.  Mild edema of the lower\\nextremities without clubbing or cyanosis, no rashes.  There\\nis a right hand hematoma.  Strength is assessed as [**5-9**] in the\\nlower extremities, [**5-9**] in the upper extremities with a normal\\nmental status and cognition.\\n\\nLABORATORY STUDIES:  White count 19, hematocrit 41, platelets\\n300.  Chem-7:  127, 3.6, 88, 29, 17, 0.6, 143.  Troponin was\\nnegative.  CKs were negative times three.  Initial blood gas\\nshowed a pH of 7.4, pO2 of 66, pCO2 of 54.\\n\\nChest x-ray demonstrates a moderate sized hiatal hernia,\\nsegmental atelectasis, left lower lobe infiltrate versus\\nsegmental atelectasis.\\n\\nEKG shows normal sinus rhythm at 113 beats per minute, normal\\naxis, no evidence of ST-T wave changes.\\n\\nBRIEF SUMMARY OF HOSPITAL COURSE:\\n1. COPD/dyspnea/pneumonia:  The patient was initially placed\\non an aggressive steroid taper and admitted to the Medical\\nIntensive Care Unit due to her difficulty with oxygenation\\ndespite CPAP machine.  She was also given nebulizer\\ntreatments q.4h. as well as chest PT.  The nebulizers were\\nincreased to q.1h. due to the fact that she continued to have\\nlabored breathing.\\n\\nDue to persistent respiratory failure and labored breathing,\\nthe patient was intubated on [**2118-6-7**] in order to improve\\noxygenation, ventilation, and ability to suction.  A\\nbronchoscopy was performed on [**2118-6-7**], which demonstrated\\nmarked narrowing of the airways with expiration consistent\\nwith tracheomalacia.\\n\\nOn [**2118-6-9**], two silicone stents were placed, one in the left\\nmain stem (12 x 25 and one in the trachea 16 x 40) by Dr.\\n[**First Name (STitle) **] [**Name (STitle) **] under rigid bronchoscopy with general anesthesia.\\n\\nOn [**2118-6-11**], the patient was extubated to a cool mist shovel\\nmask and her oxygen was titrated down to 2 liters nasal\\ncannula at which time she was transferred to the medical\\nfloor.  On the medical floor, the steroids were weaned to off\\non [**2118-6-14**], and the patient was saturating at 97% on 2\\nliters, 92% on room air.\\n\\nOn [**2118-6-14**], the patient was seen again by the Interventional\\nPulmonology service, who agreed that she looked much improved\\nand recommended that she go to pulmonary rehabilitation with\\nfollowup within six weeks\\' time status post placement of\\nstents in respiratory failure.\\n\\n2. Cardiovascular:  The patient was ruled out for a MI.  She\\ndid have another episode on the medical floor of chest pain,\\nwhich showed no evidence of EKG changes and negative\\ntroponin, negative CKs x3.  She was continued on aspirin,\\nImdur, and diltiazem for rate control per her outpatient\\nregimen.\\n\\n3. Hypertension:  She was maintained on diltiazem and\\nhydrochlorothiazide with adequate blood pressure control and\\nnormalization of electrolytes.\\n\\n4. Hematuria:  The patient had intermittent hematuria likely\\nsecondary to Foley placement.  The Foley catheter was\\ndiscontinued on [**2118-6-14**].  She had serial urinalyses, which\\nwere all negative for signs of infection.\\n\\n5. Hyperglycemia:  Patient was placed on insulin-sliding\\nscale due to hyperglycemia, which was steroid induced.  This\\nworked quite well and her glucose came back to normal levels\\nonce the steroids were tapered to off.\\n\\n6. Leukocytosis:  Patient did have a profound leukocytosis of\\n20 to 22 during much of her hospital course.  As the steroids\\nwere tapered to off, her white blood cell count on [**2118-6-14**]\\nwas 15,000.  It was felt that the leukocytosis was secondary\\nto both steroids as well as question of a left lower lobe\\npneumonia.\\n\\n7. For the left lower lobe pneumonia, the patient had\\ninitially received a course of levofloxacin 500 p.o. q.d.\\nfrom [**2118-6-4**] to [**2118-6-10**].  This was restarted on [**2118-6-12**]\\nfor an additional seven day course given the fact that she\\nstill had the leukocytosis and still had marked rales at the\\nleft lower lobe.\\n\\n8. Hypothyroidism:  The patient was continued on outpatient\\nmedical regimen.\\n\\n9. Depression:  The patient was continued on Lexapro per\\noutpatient regimen.  It is recommended that she follow up\\nwith a therapist as an outpatient due to the fact that she\\ndid have a blunted affect throughout much of the hospital\\ncourse, and did appear clinically to be depressed.\\n\\n10. Prophylaxis:  She was maintained on proton-pump inhibitor\\nwith subQ Heparin.\\n\\n11. Sore throat:  The patient did have a sore throat for much\\nof the hospital course post extubation.  This was treated\\nwith Cepacol lozenges as well as KBL liquid (a solution\\ncontaining Kaopectate, Bismuth, and lidocaine) at bedtime.\\n\\n12. Communication/code status:  The patient was full code\\nthroughout her hospital course, and communication was\\nmaintained with the patient and her husband.\\n\\n13. Muscle weakness:  The patient did have profound muscle\\nweakness and was evaluated by Physical Therapy, and was found\\nto have impaired functional mobility, impaired\\nmusculoskeletal performance, impaired gas exchange, impaired\\nendurance, impaired ventilation, and needed help with supine\\nto sit.  However, she was able to tolerate sitting in a chair\\nfor approximately one hour.\\n\\nOn motor exam, her flexors and extensors of the lower\\nextremities were [**4-8**] at the knee, [**4-8**] at the ankle, [**4-8**] at\\nthe elbows, and [**4-8**] hips.  It was felt that this weakness was\\nmost likely due to a combination of steroid myopathy as well\\nas muscle atrophy secondary to deconditioning after a\\nprolonged hospital course.\\n\\n14. Speech/swallow:  The patient had a Speech and Swallow\\nevaluation showing no evidence of dysphagia, no evidence of\\nvocal cord damage status post tracheal stent placement.\\n\\nDISCHARGE CONDITION:  The patient was able to oxygenate on\\nroom air at 93% at the time of discharge.  She was profoundly\\nweak, but was no longer tachycardic and had a normal blood\\npressure.  Her respirations were much improved albeit with\\ntransmitted upper airway sounds.\\n\\nDISCHARGE STATUS:  The patient will be discharged to [**Hospital1 **]\\nfor both pulmonary and physical rehabilitation.\\n\\nDISCHARGE MEDICATIONS:\\n1. Levothyroxine 75 mcg p.o. q.d.\\n2. Citalopram 10 mg p.o. q.d.\\n3. Aspirin 81 mg p.o. q.d.\\n4. Fluticasone 110 mcg two puffs inhaled b.i.d.\\n5. Salmeterol Diskus one inhalation b.i.d.\\n6. Acetaminophen 325-650 mg p.o. q.4-6h. prn.\\n7. Ipratropium bromide MDI two puffs inhaled q.2h. prn.\\n8. Albuterol 1-2 puffs inhaled q.2h. prn.\\n9. Zolpidem tartrate 5 mg p.o. q.h.s. prn.\\n10. Isosorbide dinitrate 10 mg p.o. t.i.d.\\n11. Diltiazem 60 mg p.o. q.i.d.\\n12. Pantoprazole 40 mg p.o. q.24h.\\n13. Trazodone 25 mg p.o. q.h.s. prn.\\n14. SubQ Heparin 5000 units subcutaneous b.i.d. until such\\ntime that the patient is able to get out of bed twice a day.\\n15. Cepacol lozenges q.2h. prn.\\n16. Levofloxacin 500 mg p.o. q.d. for a seven day course to\\nbe completed on [**2118-6-21**].\\n17. Kaopectate/Benadryl/lidocaine 5 mL p.o. b.i.d. prn, not\\nto be given around mealtimes for concern of dysphagia induced\\nby lidocaine.\\n18. Lorazepam 0.5-2 mg IV q.6h. prn.\\n\\nFOLLOW-UP PLANS:  The patient is recommended to followup with\\nDr. [**First Name4 (NamePattern1) **] [**Last Name (NamePattern1) 1407**], [**Telephone/Fax (1) 1408**] within two weeks of leaving\\nof the hospital.  She is also recommended to followup with\\nthe Interventional Pulmonary service for followup status post\\nstent placement.  She is also recommended to followup with a\\nneurologist if her muscle weakness does not improve within\\none week on physical therapy with concern for steroid-induced\\nmyopathy.\\n\\nFINAL DIAGNOSES:\\n1. Tracheomalacia status post tracheal and left main stem\\nbronchial stent placement.\\n2. Hypertension.\\n3. Hypothyroidism.\\n4. Restrictive lung defect.\\n5. Depression.\\n\\n\\n                     DR.[**Last Name (STitle) **],[**First Name3 (LF) **] 12-207\\n\\n\\nDictated By:[**Last Name (NamePattern1) 1811**]\\nMEDQUIST36\\n\\nD:  [**2118-6-14**]  11:30\\nT:  [**2118-6-14**]  11:33\\nJOB#:  [**Job Number 1812**]\\n'"
      ]
     },
     "execution_count": 46,
     "metadata": {},
     "output_type": "execute_result"
    }
   ],
   "source": [
    "print('Before cleaning:')\n",
    "note['TEXT'].iloc[1]"
   ]
  },
  {
   "cell_type": "code",
   "execution_count": 45,
   "metadata": {},
   "outputs": [
    {
     "name": "stdout",
     "output_type": "stream",
     "text": [
      "After cleaning: \n"
     ]
    },
    {
     "data": {
      "text/plain": [
       "\"Admission Date:     2142-11-30                 Discharge Date:      2142-12-10    Date of Birth:     2084-5-2                Sex:   M Service: MEDICINE Allergies: Percocet / Bactrim Ds / Lisinopril Attending:   First Name3 (LF) 898    Chief Complaint: hypotension Major Surgical or Invasive Procedure: none History of Present Illness: Mr.    Known lastname 25925    is a 58 yo m w/ multiple sclerosis and seizure disorder who presented to an OSH for delusions and AMS x 2 days. At OSH, he was noted to have a Na of 124. He does have a history of hyponatremia; he had a Na of 117 in    2-27    but had been in the mid 130s since then. He has seen nephrology. At the OSH, he had an approx 45sec generalized tonic clonic seizure, received 1mg Ativan, and transferred to the ED at    Hospital1 18   . He also has a history of seizures especially in the setting of infection and hyponatremia. It is unclear if he has had seizures without an inciting event. He is currently being weaned off of Keppra and Gabapentin and is being started on Tegretol. In the ER, his VS were: 97.5; 189/105; 78; 16; 95% 3L. He was given 2L of NS. Given that he has had AMS in the setting of infection and is known to have chronic UTIs    12-24    indwelling suprapubic catheter and neurogenic bladder, blood and urine cultures were obtained as well as a CXR. He had a urine culture from    11-28    that grew pseudomonas and his CXR showed a possible infiltrate and he was treated with vancomycin and cefepime. A head CT was negative. Past Medical History: MS - since    2119   , progressive, quadriplegic, neurogenic bladder with suprapubic catheter, restrictive PFT's History of Aspiration PNAs Esophageal Ulcer -    12-24    NSAIDs,    2139   , small bowel bx negative Recurrent UTIs CHF (EF > 65% with moderate LVH in '   39   ) HTN Legally Blind Social History: He is married 32 years and lives with his wife at home. He has three children and three grandchildren. He was a professor    First Name (Titles)        Last Name (Titles) 25949    engineering at    University/College 25932   , but retired on disability after the    2128    spring semester due to his MS.    Name13 (STitle)     is wheelchair-bound. He denies tobacco, alcohol, and recreational drug use. Has personal care assistant. Family History: Father had CAD and CVA. Mother has    Name (NI) 2481    disease. Brother has diabetes. Physical Exam: General: Alert, oriented, no acute distress HEENT: Sclera anicteric, MMM, oropharynx clear Neck: supple, JVP not elevated, no LAD Lungs: Clear to auscultation bilaterally, no wheezes, rales, ronchi CV: Regular rate and rhythm, normal S1 + S2, no murmurs, rubs, gallops Abdomen:  soft, non-tender, non-distended, bowel sounds present, no rebound tenderness or guarding, no organomegaly Ext: Warm, well perfused, 2+ pulses, no clubbing, cyanosis or edema Pertinent Results:    2142-11-29    10:47PM BLOOD WBC-6.4 RBC-3.99   Hgb-11.8   Hct-33.1  MCV-83  MCH-29.7 MCHC-35.7  RDW-15.0 Plt Ct-235     2142-12-10    05:50AM BLOOD WBC-8.8 RBC-3.54  Hgb-10.8  Hct-31.0  MCV-88 MCH-30.5 MCHC-34.7 RDW-15.3 Plt Ct-424    2142-12-7    05:50AM BLOOD PT-13.6  PTT-34.1 INR(PT)-1.2     2142-11-29    10:47PM BLOOD Glucose-102 UreaN-11 Creat-0.6 Na-126  K-4.5 Cl-88  HCO3-29 AnGap-14    2142-11-30    06:58AM BLOOD Glucose-89 UreaN-11 Creat-0.7 Na-125  K-4.6 Cl-90  HCO3-28 AnGap-12    2142-11-30    12:40PM BLOOD Na-128     2142-11-30    09:45PM BLOOD Na-127     2142-12-1    07:40AM BLOOD Glucose-79 UreaN-11 Creat-0.7 Na-131  K-4.0 Cl-93  HCO3-29 AnGap-13    2142-12-1    03:00PM BLOOD Glucose-101 UreaN-16 Creat-0.8 Na-131  K-4.5 Cl-94  HCO3-30 AnGap-12    2142-12-2    05:45AM BLOOD Glucose-81 UreaN-15 Creat-0.7 Na-133 K-4.6 Cl-95  HCO3-28 AnGap-15    2142-12-2    04:10PM BLOOD Glucose-98 UreaN-15 Creat-1.0 Na-131  K-4.9 Cl-93  HCO3-27 AnGap-16    2142-12-3    06:20AM BLOOD Glucose-121  UreaN-21  Creat-1.2 Na-131  K-4.3 Cl-93  HCO3-28 AnGap-14    2142-12-3    05:40PM BLOOD Glucose-115  UreaN-25  Creat-1.3  Na-134 K-4.4 Cl-96 HCO3-27 AnGap-15    2142-12-4    07:18AM BLOOD Glucose-101 UreaN-23  Creat-0.8 Na-135 K-4.0 Cl-98 HCO3-27 AnGap-14    2142-12-5    05:30AM BLOOD Glucose-83 UreaN-21  Creat-0.7 Na-135 K-3.9 Cl-96 HCO3-26 AnGap-17    2142-12-6    05:30AM BLOOD Glucose-96 UreaN-19 Creat-0.8 Na-134 K-4.2 Cl-97 HCO3-28 AnGap-13    2142-12-7    05:50AM BLOOD Glucose-102 UreaN-21  Creat-0.8 Na-137 K-4.2 Cl-97 HCO3-26 AnGap-18    2142-12-8    07:00AM BLOOD Glucose-89 UreaN-15 Creat-0.9 Na-136 K-3.9 Cl-99 HCO3-27 AnGap-14    2142-12-9    06:30AM BLOOD Glucose-96 UreaN-14 Creat-0.9 Na-140 K-4.0 Cl-101 HCO3-28 AnGap-15    2142-12-10    05:50AM BLOOD Glucose-99 UreaN-18 Creat-1.0 Na-140 K-4.5 Cl-102 HCO3-26 AnGap-17    2142-11-29    10:47PM BLOOD Osmolal-260     2142-11-30    12:40PM BLOOD Osmolal-264     2142-12-8    07:00AM BLOOD ALT-23 AST-16 LD(LDH)-213 AlkPhos-87 TotBili-0.2    2142-12-10    05:50AM BLOOD Calcium-9.3 Phos-2.8 Mg-2.4 U/A    11-28   : nit +, LE +, WBC 55, RBC 6, Epi 1, bact few U/A    11-29   : sm bld, 100 prot/gluc; WBC    1-24   , RBC    1-24   , Epi    1-24   , bact mod U/A    12-2   : sm LE, WBC 10, RBC 2, Epi 1, bact none U/A    12-5   : 30 prot, 10 ket, lg LE; WBC 99, RBC 11, Epi 1, bact few U/A    12-6   : 30 prot, mod LE; WBC 22, RBC 8, Epi 3, bact none U/A    12-8   : neg leuk CULTURES: BCx    11-29    x2: neg BCx    12-2    x2: neg UCx    11-28   :  PSEUDOMONAS AERUGINOSA. >100,000 ORGANISMS/ML UCx    11-29    pseudomonas UCx    12-2    yeast Ucx    12-5    neg Ucx    12-6    yeast Ucx    12-8    neg c.diff neg x 2 - CXR from    12-2   :  Patchy opacity at left base again noted, but the significance in the setting of low inspiratory volumes is uncertain. - CTA from    12-2   : No PE. Scattered patchy ground-glass opacities may represent expiratory state with air trapping. - Renal u/s from    12-2   : No evidence of abscess, hydronephrosis or mass - abd xray from    12-3   : non-specific bowel gas pattern, stool throughout colon, no free air - abd xray from    12-4   : Stool- and air-filled loops of large and small bowel consistent with ileus. - Liver u/s from    12-5   : Hypoechoic right hepatic mass, measuring up to 4.2 cm in size - CT abd: prelim read: Arterially enhancing liver lesion cannot be fully characterized, may represent adenoma, FNH, or less likely HCC.  Brief Hospital Course: 58 yo male w/ progressive multiple sclerosis was admitted for AMS and seizure after having a 45s GTC at the OSH that responded to 1mg Ativan.  He had a negative head CT but was found to have a Na level of 126.  He has been hyponatremic in the past and this has often caused changes in his mental status.  In the ED, he was treated with 2L NS for concern of hypovolemic hyponatremia.  At that time, his urine osm was 423 and serum osm was 263. He also had a CXR and there was prelim concern for pneumonia which can cause an ADH like effect (the final read was neagtive).  Neurology was consulted for his AMS and seizure and they felt that his hyponatremia was likely related to recent initiation of carbamezapine for sensory illusions. Carbamezapine has a known ADH like effect and can cause hyponatremia.  Following discontinuation of carbamezapine along with fluid restriction, his Na increased.  After several days, the pt appeared slightly dehydrated so his fluid restriction was lifted. By time of discharge, his serum Na was 140. . In the past, his seizures have been instigated by an underlying infection. However, upon admission he was afebrile and did not have a leukocystosis.  The most likely source was either pneumonia or a UTI.  He has a suprapubic catheter    12-24    neurogenic bladder and on the day prior to admission, he had a urine sample that grew pseudomonas, a bacteria he has had in the past.  He has also had several pneumonias in the past, most likely    12-24    frequent aspirations and his first CXR was concerning for lung infiltrate.  He was treated with one dose of vancomycin and cefepime for pneumonia.  Ultimately, repeat CXR and a CTA were both negative for pneumonia. . Because of his pseudomonal bacteriuria, he was started on ciprofloxacin. A urine culture drawn prior to abx inititian also grew pseudomonas.  Because he was afebrile and did not have a leukocytosis and there was thought that it may actually have been colonization as opposed to infection.  However, he was treated with a full course of cipro for a complicated UTI.  His catheter was changed and all other cultures remained negative. . On admission, the pt was afebrile and hypertensive to 180-200. However, shortly after arriving on the floor, he had an episode of hypotension down to the 70's systolic.  During this time he was mentating well, he did not have any complaints, denied chest pain, headache, and visual changes.  IVFs were given, however the hypotension did not initially respond, however came up eventually prior to getting to the ICU.  This labile blood pressure was most likely secondary to the patient's autonomic dysfunction secondary to his SPMS. Other considerations were infection or possible sepsis, however the patient was continued to be afebrile. Blood and urine cultures were negative. He was monitored in the ICU for 24 hours with stable swings in BP which were asymptomatic and consistent with autonomic dysfunction. Changed clonidine dosing from 0.2mg    Hospital1     to 0.1mg TID. Maintained other blood pressure medications at home doses. . The next day, he was transferred out of the MICU and returned to the floor.  Shortly after arrival, he developed a fever.  More blood and urine cultures were sent and all were negative. Pneumonia had been ruled out and his UTI was being treated with a medication that was appropriate per sensitivities.  He had a CTA which was negative for PE.  However, he was started on meropenem and was treated for 2 days.  He was still slightly febrile but his meropenem was discontinued for concern of drug fever.  He defervesced without any further treatment. . However, his mental status continued to fluctuate despite being afebrile, no obvious source of infection, and he was eunatremic.  He was occasionally aggressive and would say that he was being murdered or kidnapped.  Neurology was reconsulted but did not feel that his symptoms were related to the keppra and they did not think he was having subclinical seizures.  He continued to have repetitive shaking moves of his head but he was conscious and able to speak during these episodes. Also, despite the Keppra, he continued to have sensory illusions, mostly centered around the feeling of having a bowel movement (when he actually was not). . During the work up for a source of infection and source of AMS, he had a CTA which revealed a liver lesion.  He had an ultrasound and a multiphase liver CT to further describe the lesion because he cannot have an MRI    12-24    an implanted baclofen pump.   Mr    Known lastname 25925    and his family decided to not biopsy the lesion at this time but it was not ruled out completely for malignancy, although unlikely.  During this work up he also had KUB that was concerning for ileus but he continued to have BMs so he was kept on a regular diet. . Prior to discharge, his mental status had not completely returned to baseline but he was alert and oriented x 3 and was no longer aggressive towards staff.  No definite etiology was elucidated and it was hypothesized that this could be a result of the progression of his established disease. Medications on Admission: BACLOFEN 2,000 mcg/mL Kit -pump BRIMONIDINE Dosage uncertain CARVEDILOL - 25 mg Tablet    Hospital1     CARBAMEZAPINE - 100mg    Hospital1     CLONIDINE - 0.2 mg Tablet    Hospital1     CLOTRIMAZOLE-BETAMETHASONE - 1 %-0.05 % Cream tid FENTANYL - 12 mcg/hour Patch 72 hr FUROSEMIDE - 40 mg Tablet qd IPRATROPIUM-ALBUTEROL prn LACTULOSE prn MINOCYCLINE - 100 mg Tablet    Hospital1     MODAFINIL  PROVIGIL  50    Hospital1     OMEPRAZOLE 20    Hospital1     OXYBUTYNIN CHLORIDE - 15 mg qhs SIMVASTATIN - 40 mg qd TRAVOPROST1 drop L eye once a day ACETAMINOPHEN prn ASCORBIC ACID 500    Hospital1     BISACODYL hs CALCIUM 500 mg Tid CRANBERRY 475 mg Capsule    Hospital1     ERGOCALCIFEROL (VITAMIN D2)400    Hospital1     MINERAL OIL prn OMEGA-3 FATTY ACIDS    Hospital1     PSYLLIUM  METAMUCIL  prn SENNA - 8.6 mg Tablet prn  Discharge Medications: 1. Carvedilol 12.5 mg Tablet Sig: Two (2) Tablet PO BID (2 times a day). 2. Fentanyl 12 mcg/hr Patch 72 hr Sig: One (1) Patch 72 hr Transdermal Q72H (every 72 hours). 3. Furosemide 40 mg Tablet Sig: One (1) Tablet PO DAILY (Daily). 4. Lactulose 10 gram/15 mL Syrup Sig: Thirty (30) ML PO Q8H (every 8 hours) as needed. 5. Acetaminophen 325 mg Tablet Sig: 1-2 Tablets PO Q6H (every 6 hours) as needed. 6. Oxybutynin Chloride 5 mg Tablet Sig: Three (3) Tablet PO QHS (once a day (at bedtime)). 7. Ascorbic Acid 500 mg Tablet Sig: One (1) Tablet PO BID (2 times a day). 8. Docusate Sodium 100 mg Capsule Sig: One (1) Capsule PO BID (2 times a day) as needed. 9. Senna 8.6 mg Tablet Sig: One (1) Tablet PO BID (2 times a day) as needed. 10. Calcium Carbonate 500 mg Tablet, Chewable Sig: One (1) Tablet, Chewable PO TID (3 times a day). 11. Omeprazole 20 mg Capsule, Delayed Release(E.C.) Sig: One (1) Capsule, Delayed Release(E.C.) PO BID (2 times a day). 12. Simvastatin 10 mg Tablet Sig: Four (4) Tablet PO DAILY (Daily). 13. Brimonidine 0.15 % Drops Sig: One (1) Drop Ophthalmic    Hospital1     (2 times a day). 14. Modafinil 100 mg Tablet Sig: 0.5 Tablet PO BID (2 times a day). 15. Ciprofloxacin 500 mg Tablet Sig: One (1) Tablet PO Q12H (every 12 hours) for 6 days: through    2142-12-13   . 16. Clonidine 0.1 mg Tablet Sig: One (1) Tablet PO TID (3 times a day). 17. Bisacodyl 5 mg Tablet, Delayed Release (E.C.) Sig: Two (2) Tablet, Delayed Release (E.C.) PO DAILY (Daily) as needed. 18. Levetiracetam 250 mg Tablet Sig: Two (2) Tablet PO BID (2 times a day). 19. Combivent 18-103 mcg/Actuation Aerosol Sig: One (1) inh Inhalation twice a day as needed. 20. TRAVATAN Z 0.004 % Drops Sig: One (1)  Ophthalmic once a day: To Left eye. 21. Cranberry 475 mg Capsule Sig: One (1) Capsule PO twice a day. 22. Omega-3 Fatty Acids     Capsule Sig: One (1) Capsule PO twice a day. 23. Ergocalciferol (Vitamin D2) 400 unit Tablet Sig: One (1) Tablet PO twice a day. The patient has an allergy listed to ACE Inhibitors, and was therefore not discharged on an ACE Inhibitor. This will be communicated to PCP.  Discharge Disposition: Home With Service Facility:    Hospital     Home Health Care Discharge Diagnosis: 1. Multiple Sclerosis 2. Urinary Tract Infection, complicated 3. Hyponatremia . Secondary: 1. Chronic Diastolic CHF  Discharge Condition: Stable vital signs.  Discharge Instructions: You were admitted with altered mental status and found to have low sodium and a urinary tract infection. You were started on antibiotics for your urinary tract infection (cipro) to complete a 2 week course. Your sodium corrected after adjusting your medications and reducing your water intake. . You were found to have an abnormality in your liver. You had a CT scan and the results are pending final interpretation. We have provided a phone number below so that you can schedule an appointment in    Hospital     clinic. It may be necessary to reimage the liver or take a biopsy of the lesion seen on CT scan. . Your medications have changed. You were switched from tegratol to keppra. Please review your most recent medication list and take only these medications, and discard any old medications not on this list. . Please return to the hospital if you develop fevers, chills, or worsening symptoms. Followup Instructions: 1.    First Name8 (NamePattern2)        First Name8 (NamePattern2) 1575       Last Name (NamePattern1)    , MD Phone:   Telephone/Fax (1) 8645    Date/Time:   2143-1-8    1:30 . 2.    First Name11 (Name Pattern1) 1037       Last Name (NamePattern4) 2335   , MD Phone:   Telephone/Fax (1) 457    Date/Time:   2143-1-15    4:00 . 3.    Hospital     CLINIC at    Hospital1 18   : (   Telephone/Fax (1) 2233     Completed by:   2142-12-13   \""
      ]
     },
     "execution_count": 45,
     "metadata": {},
     "output_type": "execute_result"
    }
   ],
   "source": [
    "data[\"TEXT\"] = data[\"TEXT\"].apply(lambda x: re.sub(r'\\r\\n', \" \", str(x)))\n",
    "data[\"TEXT\"] = data[\"TEXT\"].apply(lambda x: re.sub(r'\\n\\n', \" \", str(x)))\n",
    "data[\"TEXT\"] = data[\"TEXT\"].apply(lambda x: re.sub(r'\\n', \" \", str(x)))\n",
    "data[\"TEXT\"] = data[\"TEXT\"].apply(lambda x: re.sub(r'[\\[\\]*#]', \" \", str(x)))\n",
    "print('After cleaning: ')\n",
    "data['TEXT'].iloc[1]"
   ]
  },
  {
   "cell_type": "code",
   "execution_count": 47,
   "metadata": {},
   "outputs": [
    {
     "data": {
      "text/html": [
       "<div>\n",
       "<style scoped>\n",
       "    .dataframe tbody tr th:only-of-type {\n",
       "        vertical-align: middle;\n",
       "    }\n",
       "\n",
       "    .dataframe tbody tr th {\n",
       "        vertical-align: top;\n",
       "    }\n",
       "\n",
       "    .dataframe thead th {\n",
       "        text-align: right;\n",
       "    }\n",
       "</style>\n",
       "<table border=\"1\" class=\"dataframe\">\n",
       "  <thead>\n",
       "    <tr style=\"text-align: right;\">\n",
       "      <th></th>\n",
       "      <th>READMIT</th>\n",
       "      <th>TEXT</th>\n",
       "      <th>SUBJECT_ID</th>\n",
       "    </tr>\n",
       "  </thead>\n",
       "  <tbody>\n",
       "    <tr>\n",
       "      <td>0</td>\n",
       "      <td>1</td>\n",
       "      <td>Name:     Known lastname 470   ,    Known firs...</td>\n",
       "      <td>9895</td>\n",
       "    </tr>\n",
       "    <tr>\n",
       "      <td>1</td>\n",
       "      <td>1</td>\n",
       "      <td>Admission Date:     2142-11-30                ...</td>\n",
       "      <td>9973</td>\n",
       "    </tr>\n",
       "    <tr>\n",
       "      <td>2</td>\n",
       "      <td>0</td>\n",
       "      <td>Admission Date:     2115-2-22                 ...</td>\n",
       "      <td>48539</td>\n",
       "    </tr>\n",
       "    <tr>\n",
       "      <td>3</td>\n",
       "      <td>0</td>\n",
       "      <td>Name:     Known lastname    ,   Known firstnam...</td>\n",
       "      <td>30078</td>\n",
       "    </tr>\n",
       "    <tr>\n",
       "      <td>4</td>\n",
       "      <td>0</td>\n",
       "      <td>Admission Date:     2139-9-8        Discharge ...</td>\n",
       "      <td>14121</td>\n",
       "    </tr>\n",
       "  </tbody>\n",
       "</table>\n",
       "</div>"
      ],
      "text/plain": [
       "   READMIT                                               TEXT  SUBJECT_ID\n",
       "0        1  Name:     Known lastname 470   ,    Known firs...        9895\n",
       "1        1  Admission Date:     2142-11-30                ...        9973\n",
       "2        0  Admission Date:     2115-2-22                 ...       48539\n",
       "3        0  Name:     Known lastname    ,   Known firstnam...       30078\n",
       "4        0  Admission Date:     2139-9-8        Discharge ...       14121"
      ]
     },
     "execution_count": 47,
     "metadata": {},
     "output_type": "execute_result"
    }
   ],
   "source": [
    "datause = data[['READMIT','TEXT', 'SUBJECT_ID']]\n",
    "datause.head()"
   ]
  },
  {
   "cell_type": "code",
   "execution_count": 33,
   "metadata": {},
   "outputs": [
    {
     "name": "stdout",
     "output_type": "stream",
     "text": [
      "Number of rows missing notes:  0\n"
     ]
    }
   ],
   "source": [
    "### Check for missing values\n",
    "print('Number of rows missing notes: ',datause['TEXT'].isna().sum())"
   ]
  },
  {
   "cell_type": "markdown",
   "metadata": {},
   "source": [
    "### Split train, val, test data"
   ]
  },
  {
   "cell_type": "code",
   "execution_count": 49,
   "metadata": {},
   "outputs": [
    {
     "data": {
      "text/plain": [
       "((5530, 3), (1844, 3), (1844, 3))"
      ]
     },
     "execution_count": 49,
     "metadata": {},
     "output_type": "execute_result"
    }
   ],
   "source": [
    "y = datause['READMIT']\n",
    "X = datause[['TEXT','SUBJECT_ID']]\n",
    "\n",
    "X_train, X_testval, y_train, y_testval = train_test_split(X, y,test_size=0.4,random_state=0,stratify=y)\n",
    "X_val, X_test, y_val, y_test = train_test_split(X_testval, y_testval,test_size=0.5,random_state=0,stratify=y_testval)\n",
    "\n",
    "#Merge them to get the final sets\n",
    "dtrain = pd.concat([X_train, y_train], axis=1)\n",
    "dval = pd.concat([X_val, y_val], axis=1)\n",
    "dtest = pd.concat([X_test, y_test], axis=1)\n",
    "\n",
    "dtrain.shape, dtest.shape, dval.shape"
   ]
  },
  {
   "cell_type": "code",
   "execution_count": 50,
   "metadata": {},
   "outputs": [
    {
     "data": {
      "text/plain": [
       "Text(0.5, 0, 'Class')"
      ]
     },
     "execution_count": 50,
     "metadata": {},
     "output_type": "execute_result"
    },
    {
     "data": {
      "image/png": "[encoded data removed]",
      "text/plain": [
       "<Figure size 432x288 with 1 Axes>"
      ]
     },
     "metadata": {
      "needs_background": "light"
     },
     "output_type": "display_data"
    }
   ],
   "source": [
    "#Check class imbalance in each dataset\n",
    "plt.hist(data['READMIT'], label='y_all') #y from the full dataset\n",
    "plt.hist(dtrain['READMIT'],label ='y_train')\n",
    "plt.hist(dtest['READMIT'],label ='y_test')\n",
    "plt.hist(dval['READMIT'],label ='y_val')\n",
    "plt.legend()\n",
    "plt.xticks([0,1])\n",
    "plt.xlabel('Class')"
   ]
  },
  {
   "cell_type": "code",
   "execution_count": 43,
   "metadata": {},
   "outputs": [
    {
     "name": "stdout",
     "output_type": "stream",
     "text": [
      "Full data\n",
      "0    7159\n",
      "1    2059\n",
      "Name: READMIT, dtype: int64\n",
      "Training data\n",
      "0    4295\n",
      "1    1235\n",
      "Name: READMIT, dtype: int64\n",
      "Validation data\n",
      "0    1432\n",
      "1     412\n",
      "Name: READMIT, dtype: int64\n",
      "Test data\n",
      "0    1432\n",
      "1     412\n",
      "Name: READMIT, dtype: int64\n"
     ]
    }
   ],
   "source": [
    "print('Full data')\n",
    "print(data['READMIT'].value_counts())\n",
    "print('Training data')\n",
    "print(dtrain['READMIT'].value_counts())\n",
    "print('Validation data')\n",
    "print(dval['READMIT'].value_counts())\n",
    "print('Test data')\n",
    "print(dtest['READMIT'].value_counts())"
   ]
  },
  {
   "cell_type": "code",
   "execution_count": 51,
   "metadata": {},
   "outputs": [
    {
     "name": "stdout",
     "output_type": "stream",
     "text": [
      "Total unique patients in training data:  4630\n",
      "Total unique patients in validation data:  1716\n",
      "Total unique patients in test data:  1721\n"
     ]
    }
   ],
   "source": [
    "print('Total unique patients in training data: ', dtrain['SUBJECT_ID'].nunique())\n",
    "print('Total unique patients in validation data: ', dval['SUBJECT_ID'].nunique())\n",
    "print('Total unique patients in test data: ', dtest['SUBJECT_ID'].nunique())"
   ]
  },
  {
   "cell_type": "code",
   "execution_count": 52,
   "metadata": {},
   "outputs": [],
   "source": [
    "#Save data\n",
    "dtrain.to_csv('project_dtrain_clean.csv')\n",
    "dval.to_csv('project_dval_clean.csv')\n",
    "dtest.to_csv('project_dtest_clean.csv')"
   ]
  }
 ],
 "metadata": {
  "kernelspec": {
   "display_name": "Python 3",
   "language": "python",
   "name": "python3"
  },
  "language_info": {
   "codemirror_mode": {
    "name": "ipython",
    "version": 3
   },
   "file_extension": ".py",
   "mimetype": "text/x-python",
   "name": "python",
   "nbconvert_exporter": "python",
   "pygments_lexer": "ipython3",
   "version": "3.7.4"
  }
 },
 "nbformat": 4,
 "nbformat_minor": 4
}

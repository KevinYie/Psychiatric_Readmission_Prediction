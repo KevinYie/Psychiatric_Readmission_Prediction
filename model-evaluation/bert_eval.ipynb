{
 "cells": [
  {
   "cell_type": "code",
   "execution_count": 2,
   "metadata": {},
   "outputs": [],
   "source": [
    "### Note: The full results are shown in test_results.ipynb"
   ]
  },
  {
   "cell_type": "code",
   "execution_count": 1,
   "metadata": {},
   "outputs": [],
   "source": [
    "import pandas as pd\n",
    "import numpy as np\n",
    "\n",
    "from collections import Counter\n",
    "import re\n",
    "\n",
    "import torch\n",
    "import torch.nn as nn\n",
    "import torch.nn.functional as F\n",
    "from torch.utils.data import DataLoader, Dataset, TensorDataset\n",
    "import copy\n",
    "\n",
    "import time"
   ]
  },
  {
   "cell_type": "code",
   "execution_count": 2,
   "metadata": {},
   "outputs": [],
   "source": [
    "import transformers\n",
    "from transformers import BertModel, BertTokenizer, BertForSequenceClassification\n",
    "from transformers.optimization import AdamW\n",
    "from transformers import AutoTokenizer, AutoModel"
   ]
  },
  {
   "cell_type": "code",
   "execution_count": 3,
   "metadata": {},
   "outputs": [],
   "source": [
    "import torch.optim as optim"
   ]
  },
  {
   "cell_type": "code",
   "execution_count": 4,
   "metadata": {},
   "outputs": [],
   "source": [
    "from sklearn.model_selection import train_test_split\n",
    "from sklearn.metrics import roc_auc_score\n",
    "\n",
    "import matplotlib.pyplot as plt\n",
    "import seaborn as sns"
   ]
  },
  {
   "cell_type": "code",
   "execution_count": 25,
   "metadata": {},
   "outputs": [],
   "source": [
    "import pickle"
   ]
  },
  {
   "cell_type": "code",
   "execution_count": 5,
   "metadata": {},
   "outputs": [
    {
     "name": "stdout",
     "output_type": "stream",
     "text": [
      "There are 1 GPU(s) available.\n",
      "We will use the GPU: Tesla P100-PCIE-16GB\n"
     ]
    }
   ],
   "source": [
    "#Check if CUDA is available\n",
    "if torch.cuda.is_available():    \n",
    "    # Tell PyTorch to use the GPU.    \n",
    "    device = torch.device(\"cuda\")\n",
    "\n",
    "    print('There are %d GPU(s) available.' % torch.cuda.device_count())\n",
    "\n",
    "    print('We will use the GPU:', torch.cuda.get_device_name(0))"
   ]
  },
  {
   "cell_type": "code",
   "execution_count": 6,
   "metadata": {},
   "outputs": [],
   "source": [
    "dtrain = pd.read_csv('project_dtrain_clean.csv', index_col = 0)\n",
    "dval = pd.read_csv('project_dval_clean.csv', index_col = 0)\n",
    "dtest = pd.read_csv('project_dtest_clean.csv', index_col = 0)"
   ]
  },
  {
   "cell_type": "code",
   "execution_count": 63,
   "metadata": {},
   "outputs": [],
   "source": [
    "tokenizer = AutoTokenizer.from_pretrained(\"emilyalsentzer/Bio_Discharge_Summary_BERT\")\n"
   ]
  },
  {
   "cell_type": "code",
   "execution_count": 64,
   "metadata": {},
   "outputs": [],
   "source": [
    "#Preprocess data using BERT CLINIC tokenizer\n",
    "#tokenizer = BertTokenizer.from_pretrained('bert-base-uncased',do_lower_case=True)\n",
    "def bert_load(data):\n",
    "    '''\n",
    "    Load in data\n",
    "    Return BERT's preprocessed inputs including token_id, mask, label\n",
    "    '''\n",
    "    token_ids = []\n",
    "    attention_masks = []\n",
    "    for row in data['TEXT']:\n",
    "        #row = re.sub('[\\\\(\\[#.!?,\\'\\/\\])0-9]', ' ', row)\n",
    "        encoded_dict = tokenizer.encode_plus(row,\n",
    "                                            add_special_tokens= True, #add [CLS], [SEP]\n",
    "                                            max_length = 512,  \n",
    "                                            pad_to_max_length = True, #pad and truncate\n",
    "                                            return_attention_mask = True, #construct attention mask\n",
    "                                            return_tensors = 'pt') #return pytorch tensor\n",
    "        \n",
    "        token_ids.append(encoded_dict['input_ids'])\n",
    "        attention_masks.append(encoded_dict['attention_mask'])\n",
    "    \n",
    "    token_ids = torch.cat(token_ids,dim=0)\n",
    "    attention_masks = torch.cat(attention_masks,dim=0)\n",
    "    labels = torch.tensor(data['READMIT'].values)\n",
    "    data_out = TensorDataset(token_ids, attention_masks, labels)\n",
    "    return data_out\n",
    "        \n",
    "datatrain = bert_load(dtrain)   \n",
    "dataval = bert_load(dval)\n",
    "datatest = bert_load(dtest)"
   ]
  },
  {
   "cell_type": "code",
   "execution_count": 65,
   "metadata": {},
   "outputs": [],
   "source": [
    "BATCH_SIZE = 12\n",
    "train_loaderB = DataLoader(datatrain,\n",
    "                           batch_size=BATCH_SIZE,\n",
    "                           shuffle=True)\n",
    "                           \n",
    "\n",
    "val_loaderB = DataLoader(dataval,\n",
    "                         batch_size=BATCH_SIZE,\n",
    "                         shuffle= True)\n",
    "                         \n",
    "\n",
    "test_loaderB = DataLoader(datatest,\n",
    "                         batch_size=BATCH_SIZE,\n",
    "                         shuffle= False)"
   ]
  },
  {
   "cell_type": "code",
   "execution_count": 66,
   "metadata": {},
   "outputs": [],
   "source": [
    "class BertClassification(nn.Module):\n",
    "  \n",
    "    def __init__(self):\n",
    "        super(BertClassification, self).__init__()\n",
    "        #self.num_labels = num_labels\n",
    "        self.bert = AutoModel.from_pretrained(\"emilyalsentzer/Bio_Discharge_Summary_BERT\")\n",
    "        for param in self.bert.parameters():\n",
    "            param.requires_grad = False\n",
    "        self.dropout = nn.Dropout(0.1)\n",
    "        self.classifier = nn.Linear(768, 2)\n",
    "        \n",
    "        nn.init.xavier_normal_(self.classifier.weight)\n",
    "        \n",
    "    def forward(self, input_ids, token_type_ids=None, attention_mask=None, labels=None):\n",
    "        _, pooled_output = self.bert(input_ids,  attention_mask=attention_mask)\n",
    "        pooled_output = self.dropout(pooled_output)\n",
    "        outputs = self.classifier(pooled_output)\n",
    "        #outputs = F.sigmoid(outputs)\n",
    "        return outputs\n",
    "    "
   ]
  },
  {
   "cell_type": "markdown",
   "metadata": {},
   "source": [
    "#Since we are doing sentence-level classification, we can use the embeddings of the first token \n",
    "#in every batch i.e. ‘[CLS]’ and feed these embeddings to the fully connected layer which outputs \n",
    "#the logits (or scores) for the positive class. Note that, here using the embeddings of ‘[CLS]’ is a \n",
    "#sort of pooling over the whole sequence, you can perform average or max-pooling over the whole sequence \n",
    "#instead and it should also perform well enough.\n",
    "\n",
    "#Note: https://huggingface.co/transformers/_modules/transformers/modeling_bert.html#BertForSequenceClassification"
   ]
  },
  {
   "cell_type": "code",
   "execution_count": 68,
   "metadata": {},
   "outputs": [
    {
     "data": {
      "text/plain": [
       "BertClassification(\n",
       "  (bert): BertModel(\n",
       "    (embeddings): BertEmbeddings(\n",
       "      (word_embeddings): Embedding(28996, 768, padding_idx=0)\n",
       "      (position_embeddings): Embedding(512, 768)\n",
       "      (token_type_embeddings): Embedding(2, 768)\n",
       "      (LayerNorm): LayerNorm((768,), eps=1e-12, elementwise_affine=True)\n",
       "      (dropout): Dropout(p=0.1, inplace=False)\n",
       "    )\n",
       "    (encoder): BertEncoder(\n",
       "      (layer): ModuleList(\n",
       "        (0): BertLayer(\n",
       "          (attention): BertAttention(\n",
       "            (self): BertSelfAttention(\n",
       "              (query): Linear(in_features=768, out_features=768, bias=True)\n",
       "              (key): Linear(in_features=768, out_features=768, bias=True)\n",
       "              (value): Linear(in_features=768, out_features=768, bias=True)\n",
       "              (dropout): Dropout(p=0.1, inplace=False)\n",
       "            )\n",
       "            (output): BertSelfOutput(\n",
       "              (dense): Linear(in_features=768, out_features=768, bias=True)\n",
       "              (LayerNorm): LayerNorm((768,), eps=1e-12, elementwise_affine=True)\n",
       "              (dropout): Dropout(p=0.1, inplace=False)\n",
       "            )\n",
       "          )\n",
       "          (intermediate): BertIntermediate(\n",
       "            (dense): Linear(in_features=768, out_features=3072, bias=True)\n",
       "          )\n",
       "          (output): BertOutput(\n",
       "            (dense): Linear(in_features=3072, out_features=768, bias=True)\n",
       "            (LayerNorm): LayerNorm((768,), eps=1e-12, elementwise_affine=True)\n",
       "            (dropout): Dropout(p=0.1, inplace=False)\n",
       "          )\n",
       "        )\n",
       "        (1): BertLayer(\n",
       "          (attention): BertAttention(\n",
       "            (self): BertSelfAttention(\n",
       "              (query): Linear(in_features=768, out_features=768, bias=True)\n",
       "              (key): Linear(in_features=768, out_features=768, bias=True)\n",
       "              (value): Linear(in_features=768, out_features=768, bias=True)\n",
       "              (dropout): Dropout(p=0.1, inplace=False)\n",
       "            )\n",
       "            (output): BertSelfOutput(\n",
       "              (dense): Linear(in_features=768, out_features=768, bias=True)\n",
       "              (LayerNorm): LayerNorm((768,), eps=1e-12, elementwise_affine=True)\n",
       "              (dropout): Dropout(p=0.1, inplace=False)\n",
       "            )\n",
       "          )\n",
       "          (intermediate): BertIntermediate(\n",
       "            (dense): Linear(in_features=768, out_features=3072, bias=True)\n",
       "          )\n",
       "          (output): BertOutput(\n",
       "            (dense): Linear(in_features=3072, out_features=768, bias=True)\n",
       "            (LayerNorm): LayerNorm((768,), eps=1e-12, elementwise_affine=True)\n",
       "            (dropout): Dropout(p=0.1, inplace=False)\n",
       "          )\n",
       "        )\n",
       "        (2): BertLayer(\n",
       "          (attention): BertAttention(\n",
       "            (self): BertSelfAttention(\n",
       "              (query): Linear(in_features=768, out_features=768, bias=True)\n",
       "              (key): Linear(in_features=768, out_features=768, bias=True)\n",
       "              (value): Linear(in_features=768, out_features=768, bias=True)\n",
       "              (dropout): Dropout(p=0.1, inplace=False)\n",
       "            )\n",
       "            (output): BertSelfOutput(\n",
       "              (dense): Linear(in_features=768, out_features=768, bias=True)\n",
       "              (LayerNorm): LayerNorm((768,), eps=1e-12, elementwise_affine=True)\n",
       "              (dropout): Dropout(p=0.1, inplace=False)\n",
       "            )\n",
       "          )\n",
       "          (intermediate): BertIntermediate(\n",
       "            (dense): Linear(in_features=768, out_features=3072, bias=True)\n",
       "          )\n",
       "          (output): BertOutput(\n",
       "            (dense): Linear(in_features=3072, out_features=768, bias=True)\n",
       "            (LayerNorm): LayerNorm((768,), eps=1e-12, elementwise_affine=True)\n",
       "            (dropout): Dropout(p=0.1, inplace=False)\n",
       "          )\n",
       "        )\n",
       "        (3): BertLayer(\n",
       "          (attention): BertAttention(\n",
       "            (self): BertSelfAttention(\n",
       "              (query): Linear(in_features=768, out_features=768, bias=True)\n",
       "              (key): Linear(in_features=768, out_features=768, bias=True)\n",
       "              (value): Linear(in_features=768, out_features=768, bias=True)\n",
       "              (dropout): Dropout(p=0.1, inplace=False)\n",
       "            )\n",
       "            (output): BertSelfOutput(\n",
       "              (dense): Linear(in_features=768, out_features=768, bias=True)\n",
       "              (LayerNorm): LayerNorm((768,), eps=1e-12, elementwise_affine=True)\n",
       "              (dropout): Dropout(p=0.1, inplace=False)\n",
       "            )\n",
       "          )\n",
       "          (intermediate): BertIntermediate(\n",
       "            (dense): Linear(in_features=768, out_features=3072, bias=True)\n",
       "          )\n",
       "          (output): BertOutput(\n",
       "            (dense): Linear(in_features=3072, out_features=768, bias=True)\n",
       "            (LayerNorm): LayerNorm((768,), eps=1e-12, elementwise_affine=True)\n",
       "            (dropout): Dropout(p=0.1, inplace=False)\n",
       "          )\n",
       "        )\n",
       "        (4): BertLayer(\n",
       "          (attention): BertAttention(\n",
       "            (self): BertSelfAttention(\n",
       "              (query): Linear(in_features=768, out_features=768, bias=True)\n",
       "              (key): Linear(in_features=768, out_features=768, bias=True)\n",
       "              (value): Linear(in_features=768, out_features=768, bias=True)\n",
       "              (dropout): Dropout(p=0.1, inplace=False)\n",
       "            )\n",
       "            (output): BertSelfOutput(\n",
       "              (dense): Linear(in_features=768, out_features=768, bias=True)\n",
       "              (LayerNorm): LayerNorm((768,), eps=1e-12, elementwise_affine=True)\n",
       "              (dropout): Dropout(p=0.1, inplace=False)\n",
       "            )\n",
       "          )\n",
       "          (intermediate): BertIntermediate(\n",
       "            (dense): Linear(in_features=768, out_features=3072, bias=True)\n",
       "          )\n",
       "          (output): BertOutput(\n",
       "            (dense): Linear(in_features=3072, out_features=768, bias=True)\n",
       "            (LayerNorm): LayerNorm((768,), eps=1e-12, elementwise_affine=True)\n",
       "            (dropout): Dropout(p=0.1, inplace=False)\n",
       "          )\n",
       "        )\n",
       "        (5): BertLayer(\n",
       "          (attention): BertAttention(\n",
       "            (self): BertSelfAttention(\n",
       "              (query): Linear(in_features=768, out_features=768, bias=True)\n",
       "              (key): Linear(in_features=768, out_features=768, bias=True)\n",
       "              (value): Linear(in_features=768, out_features=768, bias=True)\n",
       "              (dropout): Dropout(p=0.1, inplace=False)\n",
       "            )\n",
       "            (output): BertSelfOutput(\n",
       "              (dense): Linear(in_features=768, out_features=768, bias=True)\n",
       "              (LayerNorm): LayerNorm((768,), eps=1e-12, elementwise_affine=True)\n",
       "              (dropout): Dropout(p=0.1, inplace=False)\n",
       "            )\n",
       "          )\n",
       "          (intermediate): BertIntermediate(\n",
       "            (dense): Linear(in_features=768, out_features=3072, bias=True)\n",
       "          )\n",
       "          (output): BertOutput(\n",
       "            (dense): Linear(in_features=3072, out_features=768, bias=True)\n",
       "            (LayerNorm): LayerNorm((768,), eps=1e-12, elementwise_affine=True)\n",
       "            (dropout): Dropout(p=0.1, inplace=False)\n",
       "          )\n",
       "        )\n",
       "        (6): BertLayer(\n",
       "          (attention): BertAttention(\n",
       "            (self): BertSelfAttention(\n",
       "              (query): Linear(in_features=768, out_features=768, bias=True)\n",
       "              (key): Linear(in_features=768, out_features=768, bias=True)\n",
       "              (value): Linear(in_features=768, out_features=768, bias=True)\n",
       "              (dropout): Dropout(p=0.1, inplace=False)\n",
       "            )\n",
       "            (output): BertSelfOutput(\n",
       "              (dense): Linear(in_features=768, out_features=768, bias=True)\n",
       "              (LayerNorm): LayerNorm((768,), eps=1e-12, elementwise_affine=True)\n",
       "              (dropout): Dropout(p=0.1, inplace=False)\n",
       "            )\n",
       "          )\n",
       "          (intermediate): BertIntermediate(\n",
       "            (dense): Linear(in_features=768, out_features=3072, bias=True)\n",
       "          )\n",
       "          (output): BertOutput(\n",
       "            (dense): Linear(in_features=3072, out_features=768, bias=True)\n",
       "            (LayerNorm): LayerNorm((768,), eps=1e-12, elementwise_affine=True)\n",
       "            (dropout): Dropout(p=0.1, inplace=False)\n",
       "          )\n",
       "        )\n",
       "        (7): BertLayer(\n",
       "          (attention): BertAttention(\n",
       "            (self): BertSelfAttention(\n",
       "              (query): Linear(in_features=768, out_features=768, bias=True)\n",
       "              (key): Linear(in_features=768, out_features=768, bias=True)\n",
       "              (value): Linear(in_features=768, out_features=768, bias=True)\n",
       "              (dropout): Dropout(p=0.1, inplace=False)\n",
       "            )\n",
       "            (output): BertSelfOutput(\n",
       "              (dense): Linear(in_features=768, out_features=768, bias=True)\n",
       "              (LayerNorm): LayerNorm((768,), eps=1e-12, elementwise_affine=True)\n",
       "              (dropout): Dropout(p=0.1, inplace=False)\n",
       "            )\n",
       "          )\n",
       "          (intermediate): BertIntermediate(\n",
       "            (dense): Linear(in_features=768, out_features=3072, bias=True)\n",
       "          )\n",
       "          (output): BertOutput(\n",
       "            (dense): Linear(in_features=3072, out_features=768, bias=True)\n",
       "            (LayerNorm): LayerNorm((768,), eps=1e-12, elementwise_affine=True)\n",
       "            (dropout): Dropout(p=0.1, inplace=False)\n",
       "          )\n",
       "        )\n",
       "        (8): BertLayer(\n",
       "          (attention): BertAttention(\n",
       "            (self): BertSelfAttention(\n",
       "              (query): Linear(in_features=768, out_features=768, bias=True)\n",
       "              (key): Linear(in_features=768, out_features=768, bias=True)\n",
       "              (value): Linear(in_features=768, out_features=768, bias=True)\n",
       "              (dropout): Dropout(p=0.1, inplace=False)\n",
       "            )\n",
       "            (output): BertSelfOutput(\n",
       "              (dense): Linear(in_features=768, out_features=768, bias=True)\n",
       "              (LayerNorm): LayerNorm((768,), eps=1e-12, elementwise_affine=True)\n",
       "              (dropout): Dropout(p=0.1, inplace=False)\n",
       "            )\n",
       "          )\n",
       "          (intermediate): BertIntermediate(\n",
       "            (dense): Linear(in_features=768, out_features=3072, bias=True)\n",
       "          )\n",
       "          (output): BertOutput(\n",
       "            (dense): Linear(in_features=3072, out_features=768, bias=True)\n",
       "            (LayerNorm): LayerNorm((768,), eps=1e-12, elementwise_affine=True)\n",
       "            (dropout): Dropout(p=0.1, inplace=False)\n",
       "          )\n",
       "        )\n",
       "        (9): BertLayer(\n",
       "          (attention): BertAttention(\n",
       "            (self): BertSelfAttention(\n",
       "              (query): Linear(in_features=768, out_features=768, bias=True)\n",
       "              (key): Linear(in_features=768, out_features=768, bias=True)\n",
       "              (value): Linear(in_features=768, out_features=768, bias=True)\n",
       "              (dropout): Dropout(p=0.1, inplace=False)\n",
       "            )\n",
       "            (output): BertSelfOutput(\n",
       "              (dense): Linear(in_features=768, out_features=768, bias=True)\n",
       "              (LayerNorm): LayerNorm((768,), eps=1e-12, elementwise_affine=True)\n",
       "              (dropout): Dropout(p=0.1, inplace=False)\n",
       "            )\n",
       "          )\n",
       "          (intermediate): BertIntermediate(\n",
       "            (dense): Linear(in_features=768, out_features=3072, bias=True)\n",
       "          )\n",
       "          (output): BertOutput(\n",
       "            (dense): Linear(in_features=3072, out_features=768, bias=True)\n",
       "            (LayerNorm): LayerNorm((768,), eps=1e-12, elementwise_affine=True)\n",
       "            (dropout): Dropout(p=0.1, inplace=False)\n",
       "          )\n",
       "        )\n",
       "        (10): BertLayer(\n",
       "          (attention): BertAttention(\n",
       "            (self): BertSelfAttention(\n",
       "              (query): Linear(in_features=768, out_features=768, bias=True)\n",
       "              (key): Linear(in_features=768, out_features=768, bias=True)\n",
       "              (value): Linear(in_features=768, out_features=768, bias=True)\n",
       "              (dropout): Dropout(p=0.1, inplace=False)\n",
       "            )\n",
       "            (output): BertSelfOutput(\n",
       "              (dense): Linear(in_features=768, out_features=768, bias=True)\n",
       "              (LayerNorm): LayerNorm((768,), eps=1e-12, elementwise_affine=True)\n",
       "              (dropout): Dropout(p=0.1, inplace=False)\n",
       "            )\n",
       "          )\n",
       "          (intermediate): BertIntermediate(\n",
       "            (dense): Linear(in_features=768, out_features=3072, bias=True)\n",
       "          )\n",
       "          (output): BertOutput(\n",
       "            (dense): Linear(in_features=3072, out_features=768, bias=True)\n",
       "            (LayerNorm): LayerNorm((768,), eps=1e-12, elementwise_affine=True)\n",
       "            (dropout): Dropout(p=0.1, inplace=False)\n",
       "          )\n",
       "        )\n",
       "        (11): BertLayer(\n",
       "          (attention): BertAttention(\n",
       "            (self): BertSelfAttention(\n",
       "              (query): Linear(in_features=768, out_features=768, bias=True)\n",
       "              (key): Linear(in_features=768, out_features=768, bias=True)\n",
       "              (value): Linear(in_features=768, out_features=768, bias=True)\n",
       "              (dropout): Dropout(p=0.1, inplace=False)\n",
       "            )\n",
       "            (output): BertSelfOutput(\n",
       "              (dense): Linear(in_features=768, out_features=768, bias=True)\n",
       "              (LayerNorm): LayerNorm((768,), eps=1e-12, elementwise_affine=True)\n",
       "              (dropout): Dropout(p=0.1, inplace=False)\n",
       "            )\n",
       "          )\n",
       "          (intermediate): BertIntermediate(\n",
       "            (dense): Linear(in_features=768, out_features=3072, bias=True)\n",
       "          )\n",
       "          (output): BertOutput(\n",
       "            (dense): Linear(in_features=3072, out_features=768, bias=True)\n",
       "            (LayerNorm): LayerNorm((768,), eps=1e-12, elementwise_affine=True)\n",
       "            (dropout): Dropout(p=0.1, inplace=False)\n",
       "          )\n",
       "        )\n",
       "      )\n",
       "    )\n",
       "    (pooler): BertPooler(\n",
       "      (dense): Linear(in_features=768, out_features=768, bias=True)\n",
       "      (activation): Tanh()\n",
       "    )\n",
       "  )\n",
       "  (dropout): Dropout(p=0.1, inplace=False)\n",
       "  (classifier): Linear(in_features=768, out_features=2, bias=True)\n",
       ")"
      ]
     },
     "execution_count": 68,
     "metadata": {},
     "output_type": "execute_result"
    }
   ],
   "source": [
    "#del modelBERT\n",
    "#torch.cuda.empty_cache()\n",
    "modelBERT = BertClassification()\n",
    "modelBERT.to(device)"
   ]
  },
  {
   "cell_type": "markdown",
   "metadata": {},
   "source": [
    "# EVALUATION\n",
    "\n",
    "## BERT DISCHARGE"
   ]
  },
  {
   "cell_type": "code",
   "execution_count": 78,
   "metadata": {},
   "outputs": [],
   "source": [
    "from sklearn.preprocessing import label_binarize\n",
    "from sklearn.utils.multiclass import unique_labels\n",
    "from sklearn.metrics import confusion_matrix\n",
    "from sklearn.metrics import roc_curve, auc\n",
    "from itertools import cycle\n",
    "import warnings\n",
    "warnings.filterwarnings('ignore')\n",
    "\n",
    "#TEST SET\n",
    "torch.manual_seed(2020)\n",
    "\n",
    "def evaluate_model(model):\n",
    "    loss_fn = nn.CrossEntropyLoss()\n",
    "    model.eval()\n",
    "    total =0.\n",
    "    correct = 0.\n",
    "    y_pred =[]\n",
    "    y_true= []\n",
    "    y_proba = []\n",
    "  \n",
    "    with torch.no_grad():        \n",
    "        for i, (data, mask, labels) in enumerate(test_loaderB):\n",
    "            data, mask, labels = data.to(device), mask.to(device), labels.to(device,dtype=torch.long)\n",
    "\n",
    "            model.zero_grad()\n",
    "\n",
    "            outputs = model(data, token_type_ids = None,\n",
    "                                          attention_mask= mask,\n",
    "                                          labels =None)\n",
    "            loss = loss_fn(outputs.view(-1,2), labels.view(-1))\n",
    "\n",
    "            label_cpu = labels.squeeze().to('cpu').numpy()\n",
    "            \n",
    "            #predict probability\n",
    "          \n",
    "            proba = F.softmax(outputs).to('cpu').numpy()[:,1]\n",
    "            \n",
    "            #predict label\n",
    "            pred = outputs.data.max(-1)[1].to('cpu').numpy()\n",
    "        \n",
    "            total += labels.size(0)\n",
    "            correct += float(sum((pred ==label_cpu)))\n",
    "            \n",
    "           \n",
    "            y_proba += list(proba)  #use for ROC and AUC\n",
    "            y_pred += list(pred)    #use for confusion matrix\n",
    "            y_true += list(label_cpu) #use for all\n",
    "        \n",
    "       \n",
    "        v_auc = roc_auc_score(y_true, y_proba)\n",
    "        v_acc = correct/total\n",
    "\n",
    "\n",
    "    print('Test set | Accuracy: {:6.4f}'.format(v_acc))\n",
    "    print('Test set | AUC: {:6.4f}'.format(v_auc))\n",
    "\n",
    "    return y_true, y_pred, y_proba #y_proba_class0\n"
   ]
  },
  {
   "cell_type": "code",
   "execution_count": 21,
   "metadata": {},
   "outputs": [
    {
     "name": "stdout",
     "output_type": "stream",
     "text": [
      "Test set | Accuracy: 0.7402\n",
      "Test set | AUC: 0.7476\n"
     ]
    }
   ],
   "source": [
    "#BERT CLINIC - fully train - lr = 2e-5, batch size = 6\n",
    "model = torch.load('bert_clinic_base.pth')\n",
    "model.to(device)\n",
    "y_true, y_pred, y_proba = evaluate_model(model)\n",
    "\n",
    "pickle.dump(y_pred,open(\"bert_clinic_base_ypred.pkl\",\"wb\"))\n",
    "pickle.dump(y_proba,open(\"bert_clinic_base_yproba.pkl\",\"wb\"))"
   ]
  },
  {
   "cell_type": "code",
   "execution_count": 43,
   "metadata": {},
   "outputs": [
    {
     "name": "stdout",
     "output_type": "stream",
     "text": [
      "Test set | Accuracy: 0.7820\n",
      "Test set | AUC: 0.7301\n"
     ]
    }
   ],
   "source": [
    "#bert_clinic_base2e5.pth  - lr = 2e-5, batch size = 12\n",
    "model = torch.load('bert_clinic_base2e5.pth')  \n",
    "model.to(device)\n",
    "y_true, y_pred, y_proba = evaluate_model(model)\n",
    "\n",
    "pickle.dump(y_pred,open(\"bert_clinic_base2e5_ypred.pkl\",\"wb\"))\n",
    "pickle.dump(y_proba,open(\"bert_clinic_base2e5_yproba.pkl\",\"wb\"))"
   ]
  },
  {
   "cell_type": "code",
   "execution_count": 31,
   "metadata": {},
   "outputs": [
    {
     "name": "stdout",
     "output_type": "stream",
     "text": [
      "Test set | Accuracy: 0.7945\n",
      "Test set | AUC: 0.7537\n"
     ]
    }
   ],
   "source": [
    "#bert_clinic_base3.pth  - lr = 3e-5, batch size = 12\n",
    "model = torch.load('bert_clinic_base3.pth')  \n",
    "model.to(device)\n",
    "y_true, y_pred, y_proba = evaluate_model(model)\n",
    "\n",
    "pickle.dump(y_pred,open(\"bert_clinic_base3_ypred.pkl\",\"wb\"))\n",
    "pickle.dump(y_proba,open(\"bert_clinic_base3_yproba.pkl\",\"wb\"))"
   ]
  },
  {
   "cell_type": "code",
   "execution_count": 52,
   "metadata": {},
   "outputs": [
    {
     "name": "stdout",
     "output_type": "stream",
     "text": [
      "Test set | Accuracy: 0.7874\n",
      "Test set | AUC: 0.7325\n"
     ]
    }
   ],
   "source": [
    "#bert_clinic_base3e5.pth  - lr = 3e-5, batch size = 6\n",
    "model = torch.load('bert_clinic_base3e5.pth')  \n",
    "model.to(device)\n",
    "y_true, y_pred, y_proba = evaluate_model(model)\n",
    "\n",
    "pickle.dump(y_pred,open(\"bert_clinic_base3e5_ypred.pkl\",\"wb\"))\n",
    "pickle.dump(y_proba,open(\"bert_clinic_base3e5_yproba.pkl\",\"wb\"))"
   ]
  },
  {
   "cell_type": "code",
   "execution_count": 34,
   "metadata": {},
   "outputs": [
    {
     "name": "stdout",
     "output_type": "stream",
     "text": [
      "Test set | Accuracy: 0.7945\n",
      "Test set | AUC: 0.7537\n"
     ]
    }
   ],
   "source": [
    "#bert_clinic_base2.pth  - lr = 5e-5, batch size = 12\n",
    "model = torch.load('bert_clinic_base2.pth')  \n",
    "model.to(device)\n",
    "y_true, y_pred, y_proba = evaluate_model(model)\n",
    "\n",
    "pickle.dump(y_pred,open(\"bert_clinic_base2_ypred.pkl\",\"wb\"))\n",
    "pickle.dump(y_proba,open(\"bert_clinic_base2_yproba.pkl\",\"wb\"))"
   ]
  },
  {
   "cell_type": "code",
   "execution_count": 80,
   "metadata": {},
   "outputs": [
    {
     "name": "stdout",
     "output_type": "stream",
     "text": [
      "Test set | Accuracy: 0.7766\n",
      "Test set | AUC: 0.4733\n"
     ]
    }
   ],
   "source": [
    "model = torch.load('bert_clinic_fc_2e5.pth')  \n",
    "model.to(device)\n",
    "y_true, y_pred, y_proba = evaluate_model(model)\n",
    "\n",
    "pickle.dump(y_pred,open(\"model_clinic_fc2e5_ypred.pkl\",\"wb\"))\n",
    "pickle.dump(y_proba,open(\"model_clinic_fc2e5_yproba.pkl\",\"wb\"))"
   ]
  },
  {
   "cell_type": "code",
   "execution_count": 86,
   "metadata": {},
   "outputs": [
    {
     "name": "stdout",
     "output_type": "stream",
     "text": [
      "Test set | Accuracy: 0.6464\n",
      "Test set | AUC: 0.6803\n"
     ]
    }
   ],
   "source": [
    "#bert_clinic_base2.pth  - lr = 5e-5, batch size = 12\n",
    "model = torch.load('bert_clinic_fc_2e2.pth')  \n",
    "model.to(device)\n",
    "y_true, y_pred, y_proba = evaluate_model(model)\n",
    "\n",
    "pickle.dump(y_pred,open(\"bert_clinic_fc_2e2_ypred.pkl\",\"wb\"))\n",
    "pickle.dump(y_proba,open(\"bert_clinic_fc_2e2_yproba.pkl\",\"wb\"))"
   ]
  },
  {
   "cell_type": "markdown",
   "metadata": {},
   "source": [
    "## BERT BASE"
   ]
  },
  {
   "cell_type": "code",
   "execution_count": 55,
   "metadata": {},
   "outputs": [],
   "source": [
    "#Preprocess data using BERT tokenizer\n",
    "tokenizer = BertTokenizer.from_pretrained('bert-base-uncased',do_lower_case=True)\n",
    "def bert_load(data):\n",
    "    '''\n",
    "    Load in data\n",
    "    Return BERT's preprocessed inputs including token_id, mask, label\n",
    "    '''\n",
    "    token_ids = []\n",
    "    attention_masks = []\n",
    "    for row in data['TEXT']:\n",
    "        row = re.sub('[\\\\(\\[#.!?,\\'\\/\\])0-9]', ' ', row)\n",
    "        encoded_dict = tokenizer.encode_plus(row,\n",
    "                                            add_special_tokens= True, #add [CLS], [SEP]\n",
    "                                            max_length = 512,  \n",
    "                                            pad_to_max_length = True, #pad and truncate\n",
    "                                            return_attention_mask = True, #construct attention mask\n",
    "                                            return_tensors = 'pt') #return pytorch tensor\n",
    "        \n",
    "        token_ids.append(encoded_dict['input_ids'])\n",
    "        attention_masks.append(encoded_dict['attention_mask'])\n",
    "    \n",
    "    token_ids = torch.cat(token_ids,dim=0)\n",
    "    attention_masks = torch.cat(attention_masks,dim=0)\n",
    "    labels = torch.tensor(data['READMIT'].values)\n",
    "    data_out = TensorDataset(token_ids, attention_masks, labels)\n",
    "    return data_out\n",
    "        \n",
    "#datatrain = bert_load(dtrain)   \n",
    "#dataval = bert_load(dval)\n",
    "datatest = bert_load(dtest)"
   ]
  },
  {
   "cell_type": "code",
   "execution_count": 56,
   "metadata": {},
   "outputs": [],
   "source": [
    "BATCH_SIZE = 12\n",
    "train_loaderB = DataLoader(datatrain,\n",
    "                           batch_size=BATCH_SIZE,\n",
    "                           shuffle=True)\n",
    "                           \n",
    "\n",
    "val_loaderB = DataLoader(dataval,\n",
    "                         batch_size=BATCH_SIZE,\n",
    "                         shuffle= True)\n",
    "                         \n",
    "\n",
    "test_loaderB = DataLoader(datatest,\n",
    "                         batch_size=BATCH_SIZE,\n",
    "                         shuffle= False)"
   ]
  },
  {
   "cell_type": "code",
   "execution_count": 57,
   "metadata": {},
   "outputs": [],
   "source": [
    "torch.manual_seed(2020)\n",
    "\n",
    "def evaluate_model(model):\n",
    "    model.eval()\n",
    "    total =0.\n",
    "    correct = 0.\n",
    "    y_pred =[]\n",
    "    y_true= []\n",
    "    y_proba = []\n",
    "  \n",
    "    with torch.no_grad():        \n",
    "        for i, (data, mask, labels) in enumerate(test_loaderB):\n",
    "            data, mask, labels = data.to(device), mask.to(device), labels.to(device)\n",
    "\n",
    "            model.zero_grad()\n",
    "\n",
    "            _, outputs = model(data, token_type_ids = None,\n",
    "                                          attention_mask= mask,\n",
    "                                          labels =labels)\n",
    "\n",
    "            label_cpu = labels.squeeze().to('cpu').numpy()\n",
    "            \n",
    "            #predict probability\n",
    "          \n",
    "            proba = F.softmax(outputs).to('cpu').numpy()[:,1]\n",
    "            \n",
    "            #predict label\n",
    "            pred = outputs.data.max(-1)[1].to('cpu').numpy()\n",
    "        \n",
    "            total += labels.size(0)\n",
    "            correct += float(sum((pred ==label_cpu)))\n",
    "            \n",
    "           \n",
    "            y_proba += list(proba)  #use for ROC and AUC\n",
    "            y_pred += list(pred)    #use for confusion matrix\n",
    "            y_true += list(label_cpu) #use for all\n",
    "        \n",
    "       \n",
    "        v_auc = roc_auc_score(y_true, y_proba)\n",
    "        v_acc = correct/total\n",
    "\n",
    "\n",
    "    print('Test set | Accuracy: {:6.4f}'.format(v_acc))\n",
    "    print('Test set | AUC: {:6.4f}'.format(v_auc))\n",
    "\n",
    "    return y_true, y_pred, y_proba"
   ]
  },
  {
   "cell_type": "code",
   "execution_count": null,
   "metadata": {},
   "outputs": [],
   "source": [
    "def plot_confusion_matrix(y_true, y_pred, classes,\n",
    "                          normalize=False,\n",
    "                          title=None,\n",
    "                          cmap=plt.cm.Blues):\n",
    "    \"\"\"\n",
    "    This function prints and plots the confusion matrix.\n",
    "    Normalization can be applied by setting `normalize=True`.\n",
    "    \"\"\"\n",
    "    if not title:\n",
    "        if normalize:\n",
    "            title = 'Normalized confusion matrix'\n",
    "        else:\n",
    "            title = 'Confusion matrix, without normalization'\n",
    "\n",
    "    # Compute confusion matrix\n",
    "    cm = confusion_matrix(y_true, y_pred)\n",
    "    # Only use the labels that appear in the data\n",
    "    #classes = classes[unique_labels(y_true, y_pred)]\n",
    "    if normalize:\n",
    "        cm = cm.astype('float') / cm.sum(axis=1)[:, np.newaxis]\n",
    "        #print(\"Normalized confusion matrix\")\n",
    "    else:\n",
    "        pass\n",
    "        #print('Confusion matrix, without normalization')\n",
    "\n",
    "    #print(cm)\n",
    "    #print(cm.shape)\n",
    "\n",
    "    fig, ax = plt.subplots()\n",
    "    im = ax.imshow(cm, interpolation='nearest', cmap=cmap)\n",
    "    ax.figure.colorbar(im, ax=ax)\n",
    "    # We want to show all ticks...\n",
    "    ax.set(xticks=np.arange(cm.shape[1]),\n",
    "           yticks=np.arange(-0.5, cm.shape[0]),\n",
    "           # ... and label them with the respective list entries\n",
    "           xticklabels=classes, yticklabels=classes,\n",
    "           title=title,\n",
    "           ylabel='True label',\n",
    "           xlabel='Predicted label')\n",
    "\n",
    "    # Rotate the tick labels and set their alignment.\n",
    "    plt.setp(ax.get_xticklabels(), rotation=45, ha=\"right\",\n",
    "             rotation_mode=\"anchor\")\n",
    "\n",
    "    # Loop over data dimensions and create text annotations.\n",
    "    fmt = '.2f' if normalize else 'd'\n",
    "    thresh = cm.max() / 2.\n",
    "    for i in range(cm.shape[0]):\n",
    "        for j in range(cm.shape[1]):\n",
    "            ax.text(j, i, format(cm[i, j], fmt),\n",
    "                    ha=\"center\", va=\"center\",\n",
    "                    color=\"white\" if cm[i, j] > thresh else \"black\")\n",
    "    fig.tight_layout()\n",
    "    return None\n",
    "\n",
    "\n",
    "classes = ['no readmission','readmission']"
   ]
  },
  {
   "cell_type": "code",
   "execution_count": 58,
   "metadata": {},
   "outputs": [
    {
     "name": "stdout",
     "output_type": "stream",
     "text": [
      "Test set | Accuracy: 0.7777\n",
      "Test set | AUC: 0.6385\n"
     ]
    }
   ],
   "source": [
    "model = torch.load('model_bert_pretrained.pth')  \n",
    "model.to(device)\n",
    "y_true, y_pred, y_proba = evaluate_model(model)\n",
    "\n",
    "pickle.dump(y_pred,open(\"model_bert_pretrained_ypred.pkl\",\"wb\"))\n",
    "pickle.dump(y_proba,open(\"model_bert_pretrained_yproba.pkl\",\"wb\"))"
   ]
  },
  {
   "cell_type": "code",
   "execution_count": 59,
   "metadata": {},
   "outputs": [
    {
     "data": {
      "image/png": "[encoded data removed]",
      "text/plain": [
       "<Figure size 432x288 with 2 Axes>"
      ]
     },
     "metadata": {
      "needs_background": "light"
     },
     "output_type": "display_data"
    }
   ],
   "source": [
    "plot_confusion_matrix(y_true, y_pred, classes)"
   ]
  },
  {
   "cell_type": "code",
   "execution_count": 62,
   "metadata": {},
   "outputs": [
    {
     "name": "stdout",
     "output_type": "stream",
     "text": [
      "Test set | Accuracy: 0.7798\n",
      "Test set | AUC: 0.6476\n"
     ]
    },
    {
     "data": {
      "image/png": "[encoded data removed]",
      "text/plain": [
       "<Figure size 432x288 with 2 Axes>"
      ]
     },
     "metadata": {
      "needs_background": "light"
     },
     "output_type": "display_data"
    }
   ],
   "source": [
    "model = torch.load('model_bert_pretrained_fc.pth')  \n",
    "model.to(device)\n",
    "y_true, y_pred, y_proba = evaluate_model(model)\n",
    "\n",
    "pickle.dump(y_pred,open(\"model_bert_pretrained_fc__ypred.pkl\",\"wb\"))\n",
    "pickle.dump(y_proba,open(\"model_bert_pretrained_fc_yproba.pkl\",\"wb\"))\n",
    "\n",
    "plot_confusion_matrix(y_true, y_pred, classes)"
   ]
  }
 ],
 "metadata": {
  "kernelspec": {
   "display_name": "Python 3",
   "language": "python",
   "name": "python3"
  },
  "language_info": {
   "codemirror_mode": {
    "name": "ipython",
    "version": 3
   },
   "file_extension": ".py",
   "mimetype": "text/x-python",
   "name": "python",
   "nbconvert_exporter": "python",
   "pygments_lexer": "ipython3",
   "version": "3.7.4"
  }
 },
 "nbformat": 4,
 "nbformat_minor": 2
}
